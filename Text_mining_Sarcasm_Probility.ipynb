{
  "nbformat": 4,
  "nbformat_minor": 0,
  "metadata": {
    "accelerator": "GPU",
    "colab": {
      "name": "Text_mining_Sarcasm_Probility.ipynb",
      "provenance": [],
      "collapsed_sections": [],
      "include_colab_link": true
    },
    "kernelspec": {
      "display_name": "Python 3",
      "language": "python",
      "name": "python3"
    },
    "widgets": {
      "application/vnd.jupyter.widget-state+json": {
        "f4387f6c30164958acc123b202daced9": {
          "model_module": "@jupyter-widgets/controls",
          "model_name": "HBoxModel",
          "state": {
            "_dom_classes": [],
            "_model_module": "@jupyter-widgets/controls",
            "_model_module_version": "1.5.0",
            "_model_name": "HBoxModel",
            "_view_count": null,
            "_view_module": "@jupyter-widgets/controls",
            "_view_module_version": "1.5.0",
            "_view_name": "HBoxView",
            "box_style": "",
            "children": [
              "IPY_MODEL_6c73ffbf13a5460285c5c7ebb4afdc12",
              "IPY_MODEL_7b79f838f741474c84ea277ed21de0bc"
            ],
            "layout": "IPY_MODEL_ebe9d92a0b224090bb5ad879de5ceb7b"
          }
        },
        "6c73ffbf13a5460285c5c7ebb4afdc12": {
          "model_module": "@jupyter-widgets/controls",
          "model_name": "FloatProgressModel",
          "state": {
            "_dom_classes": [],
            "_model_module": "@jupyter-widgets/controls",
            "_model_module_version": "1.5.0",
            "_model_name": "FloatProgressModel",
            "_view_count": null,
            "_view_module": "@jupyter-widgets/controls",
            "_view_module_version": "1.5.0",
            "_view_name": "ProgressView",
            "bar_style": "success",
            "description": "Pandas Apply: 100%",
            "description_tooltip": null,
            "layout": "IPY_MODEL_b67d4dc4bfaa4532bd474cc25581a258",
            "max": 1010826,
            "min": 0,
            "orientation": "horizontal",
            "style": "IPY_MODEL_e46f07c0e7434d379c1bf398c8f81837",
            "value": 1010826
          }
        },
        "7b79f838f741474c84ea277ed21de0bc": {
          "model_module": "@jupyter-widgets/controls",
          "model_name": "HTMLModel",
          "state": {
            "_dom_classes": [],
            "_model_module": "@jupyter-widgets/controls",
            "_model_module_version": "1.5.0",
            "_model_name": "HTMLModel",
            "_view_count": null,
            "_view_module": "@jupyter-widgets/controls",
            "_view_module_version": "1.5.0",
            "_view_name": "HTMLView",
            "description": "",
            "description_tooltip": null,
            "layout": "IPY_MODEL_261abeb273414f369eee94bc06d09efb",
            "placeholder": "​",
            "style": "IPY_MODEL_831b189594134c0d868af261916e4ca2",
            "value": " 1010826/1010826 [26:36&lt;00:00, 633.14it/s]"
          }
        },
        "ebe9d92a0b224090bb5ad879de5ceb7b": {
          "model_module": "@jupyter-widgets/base",
          "model_name": "LayoutModel",
          "state": {
            "_model_module": "@jupyter-widgets/base",
            "_model_module_version": "1.2.0",
            "_model_name": "LayoutModel",
            "_view_count": null,
            "_view_module": "@jupyter-widgets/base",
            "_view_module_version": "1.2.0",
            "_view_name": "LayoutView",
            "align_content": null,
            "align_items": null,
            "align_self": null,
            "border": null,
            "bottom": null,
            "display": null,
            "flex": null,
            "flex_flow": null,
            "grid_area": null,
            "grid_auto_columns": null,
            "grid_auto_flow": null,
            "grid_auto_rows": null,
            "grid_column": null,
            "grid_gap": null,
            "grid_row": null,
            "grid_template_areas": null,
            "grid_template_columns": null,
            "grid_template_rows": null,
            "height": null,
            "justify_content": null,
            "justify_items": null,
            "left": null,
            "margin": null,
            "max_height": null,
            "max_width": null,
            "min_height": null,
            "min_width": null,
            "object_fit": null,
            "object_position": null,
            "order": null,
            "overflow": null,
            "overflow_x": null,
            "overflow_y": null,
            "padding": null,
            "right": null,
            "top": null,
            "visibility": null,
            "width": null
          }
        },
        "b67d4dc4bfaa4532bd474cc25581a258": {
          "model_module": "@jupyter-widgets/base",
          "model_name": "LayoutModel",
          "state": {
            "_model_module": "@jupyter-widgets/base",
            "_model_module_version": "1.2.0",
            "_model_name": "LayoutModel",
            "_view_count": null,
            "_view_module": "@jupyter-widgets/base",
            "_view_module_version": "1.2.0",
            "_view_name": "LayoutView",
            "align_content": null,
            "align_items": null,
            "align_self": null,
            "border": null,
            "bottom": null,
            "display": null,
            "flex": null,
            "flex_flow": null,
            "grid_area": null,
            "grid_auto_columns": null,
            "grid_auto_flow": null,
            "grid_auto_rows": null,
            "grid_column": null,
            "grid_gap": null,
            "grid_row": null,
            "grid_template_areas": null,
            "grid_template_columns": null,
            "grid_template_rows": null,
            "height": null,
            "justify_content": null,
            "justify_items": null,
            "left": null,
            "margin": null,
            "max_height": null,
            "max_width": null,
            "min_height": null,
            "min_width": null,
            "object_fit": null,
            "object_position": null,
            "order": null,
            "overflow": null,
            "overflow_x": null,
            "overflow_y": null,
            "padding": null,
            "right": null,
            "top": null,
            "visibility": null,
            "width": null
          }
        },
        "e46f07c0e7434d379c1bf398c8f81837": {
          "model_module": "@jupyter-widgets/controls",
          "model_name": "ProgressStyleModel",
          "state": {
            "_model_module": "@jupyter-widgets/controls",
            "_model_module_version": "1.5.0",
            "_model_name": "ProgressStyleModel",
            "_view_count": null,
            "_view_module": "@jupyter-widgets/base",
            "_view_module_version": "1.2.0",
            "_view_name": "StyleView",
            "bar_color": null,
            "description_width": "initial"
          }
        },
        "261abeb273414f369eee94bc06d09efb": {
          "model_module": "@jupyter-widgets/base",
          "model_name": "LayoutModel",
          "state": {
            "_model_module": "@jupyter-widgets/base",
            "_model_module_version": "1.2.0",
            "_model_name": "LayoutModel",
            "_view_count": null,
            "_view_module": "@jupyter-widgets/base",
            "_view_module_version": "1.2.0",
            "_view_name": "LayoutView",
            "align_content": null,
            "align_items": null,
            "align_self": null,
            "border": null,
            "bottom": null,
            "display": null,
            "flex": null,
            "flex_flow": null,
            "grid_area": null,
            "grid_auto_columns": null,
            "grid_auto_flow": null,
            "grid_auto_rows": null,
            "grid_column": null,
            "grid_gap": null,
            "grid_row": null,
            "grid_template_areas": null,
            "grid_template_columns": null,
            "grid_template_rows": null,
            "height": null,
            "justify_content": null,
            "justify_items": null,
            "left": null,
            "margin": null,
            "max_height": null,
            "max_width": null,
            "min_height": null,
            "min_width": null,
            "object_fit": null,
            "object_position": null,
            "order": null,
            "overflow": null,
            "overflow_x": null,
            "overflow_y": null,
            "padding": null,
            "right": null,
            "top": null,
            "visibility": null,
            "width": null
          }
        },
        "831b189594134c0d868af261916e4ca2": {
          "model_module": "@jupyter-widgets/controls",
          "model_name": "DescriptionStyleModel",
          "state": {
            "_model_module": "@jupyter-widgets/controls",
            "_model_module_version": "1.5.0",
            "_model_name": "DescriptionStyleModel",
            "_view_count": null,
            "_view_module": "@jupyter-widgets/base",
            "_view_module_version": "1.2.0",
            "_view_name": "StyleView",
            "description_width": ""
          }
        },
        "f4e62b99413f4288b13aae673b983d9a": {
          "model_module": "@jupyter-widgets/controls",
          "model_name": "HBoxModel",
          "state": {
            "_dom_classes": [],
            "_model_module": "@jupyter-widgets/controls",
            "_model_module_version": "1.5.0",
            "_model_name": "HBoxModel",
            "_view_count": null,
            "_view_module": "@jupyter-widgets/controls",
            "_view_module_version": "1.5.0",
            "_view_name": "HBoxView",
            "box_style": "",
            "children": [
              "IPY_MODEL_c67df4e56f824f4793a69568b82a35ef",
              "IPY_MODEL_017d2aeb45d443dda8c67980e07416e9"
            ],
            "layout": "IPY_MODEL_85457f9a464e4806a07ca38c7bc033cf"
          }
        },
        "c67df4e56f824f4793a69568b82a35ef": {
          "model_module": "@jupyter-widgets/controls",
          "model_name": "FloatProgressModel",
          "state": {
            "_dom_classes": [],
            "_model_module": "@jupyter-widgets/controls",
            "_model_module_version": "1.5.0",
            "_model_name": "FloatProgressModel",
            "_view_count": null,
            "_view_module": "@jupyter-widgets/controls",
            "_view_module_version": "1.5.0",
            "_view_name": "ProgressView",
            "bar_style": "success",
            "description": "Pandas Apply: 100%",
            "description_tooltip": null,
            "layout": "IPY_MODEL_40b45a5804c748c2a7288618f434bb69",
            "max": 1010826,
            "min": 0,
            "orientation": "horizontal",
            "style": "IPY_MODEL_d0130dd4721e449d8fd6d9a6b82961cc",
            "value": 1010826
          }
        },
        "017d2aeb45d443dda8c67980e07416e9": {
          "model_module": "@jupyter-widgets/controls",
          "model_name": "HTMLModel",
          "state": {
            "_dom_classes": [],
            "_model_module": "@jupyter-widgets/controls",
            "_model_module_version": "1.5.0",
            "_model_name": "HTMLModel",
            "_view_count": null,
            "_view_module": "@jupyter-widgets/controls",
            "_view_module_version": "1.5.0",
            "_view_name": "HTMLView",
            "description": "",
            "description_tooltip": null,
            "layout": "IPY_MODEL_9e83d3b914b546db8f4e5ef304d6f8b4",
            "placeholder": "​",
            "style": "IPY_MODEL_9158cbd5c29742918751019d0c1a5660",
            "value": " 1010826/1010826 [07:24&lt;00:00, 2276.61it/s]"
          }
        },
        "85457f9a464e4806a07ca38c7bc033cf": {
          "model_module": "@jupyter-widgets/base",
          "model_name": "LayoutModel",
          "state": {
            "_model_module": "@jupyter-widgets/base",
            "_model_module_version": "1.2.0",
            "_model_name": "LayoutModel",
            "_view_count": null,
            "_view_module": "@jupyter-widgets/base",
            "_view_module_version": "1.2.0",
            "_view_name": "LayoutView",
            "align_content": null,
            "align_items": null,
            "align_self": null,
            "border": null,
            "bottom": null,
            "display": null,
            "flex": null,
            "flex_flow": null,
            "grid_area": null,
            "grid_auto_columns": null,
            "grid_auto_flow": null,
            "grid_auto_rows": null,
            "grid_column": null,
            "grid_gap": null,
            "grid_row": null,
            "grid_template_areas": null,
            "grid_template_columns": null,
            "grid_template_rows": null,
            "height": null,
            "justify_content": null,
            "justify_items": null,
            "left": null,
            "margin": null,
            "max_height": null,
            "max_width": null,
            "min_height": null,
            "min_width": null,
            "object_fit": null,
            "object_position": null,
            "order": null,
            "overflow": null,
            "overflow_x": null,
            "overflow_y": null,
            "padding": null,
            "right": null,
            "top": null,
            "visibility": null,
            "width": null
          }
        },
        "40b45a5804c748c2a7288618f434bb69": {
          "model_module": "@jupyter-widgets/base",
          "model_name": "LayoutModel",
          "state": {
            "_model_module": "@jupyter-widgets/base",
            "_model_module_version": "1.2.0",
            "_model_name": "LayoutModel",
            "_view_count": null,
            "_view_module": "@jupyter-widgets/base",
            "_view_module_version": "1.2.0",
            "_view_name": "LayoutView",
            "align_content": null,
            "align_items": null,
            "align_self": null,
            "border": null,
            "bottom": null,
            "display": null,
            "flex": null,
            "flex_flow": null,
            "grid_area": null,
            "grid_auto_columns": null,
            "grid_auto_flow": null,
            "grid_auto_rows": null,
            "grid_column": null,
            "grid_gap": null,
            "grid_row": null,
            "grid_template_areas": null,
            "grid_template_columns": null,
            "grid_template_rows": null,
            "height": null,
            "justify_content": null,
            "justify_items": null,
            "left": null,
            "margin": null,
            "max_height": null,
            "max_width": null,
            "min_height": null,
            "min_width": null,
            "object_fit": null,
            "object_position": null,
            "order": null,
            "overflow": null,
            "overflow_x": null,
            "overflow_y": null,
            "padding": null,
            "right": null,
            "top": null,
            "visibility": null,
            "width": null
          }
        },
        "d0130dd4721e449d8fd6d9a6b82961cc": {
          "model_module": "@jupyter-widgets/controls",
          "model_name": "ProgressStyleModel",
          "state": {
            "_model_module": "@jupyter-widgets/controls",
            "_model_module_version": "1.5.0",
            "_model_name": "ProgressStyleModel",
            "_view_count": null,
            "_view_module": "@jupyter-widgets/base",
            "_view_module_version": "1.2.0",
            "_view_name": "StyleView",
            "bar_color": null,
            "description_width": "initial"
          }
        },
        "9e83d3b914b546db8f4e5ef304d6f8b4": {
          "model_module": "@jupyter-widgets/base",
          "model_name": "LayoutModel",
          "state": {
            "_model_module": "@jupyter-widgets/base",
            "_model_module_version": "1.2.0",
            "_model_name": "LayoutModel",
            "_view_count": null,
            "_view_module": "@jupyter-widgets/base",
            "_view_module_version": "1.2.0",
            "_view_name": "LayoutView",
            "align_content": null,
            "align_items": null,
            "align_self": null,
            "border": null,
            "bottom": null,
            "display": null,
            "flex": null,
            "flex_flow": null,
            "grid_area": null,
            "grid_auto_columns": null,
            "grid_auto_flow": null,
            "grid_auto_rows": null,
            "grid_column": null,
            "grid_gap": null,
            "grid_row": null,
            "grid_template_areas": null,
            "grid_template_columns": null,
            "grid_template_rows": null,
            "height": null,
            "justify_content": null,
            "justify_items": null,
            "left": null,
            "margin": null,
            "max_height": null,
            "max_width": null,
            "min_height": null,
            "min_width": null,
            "object_fit": null,
            "object_position": null,
            "order": null,
            "overflow": null,
            "overflow_x": null,
            "overflow_y": null,
            "padding": null,
            "right": null,
            "top": null,
            "visibility": null,
            "width": null
          }
        },
        "9158cbd5c29742918751019d0c1a5660": {
          "model_module": "@jupyter-widgets/controls",
          "model_name": "DescriptionStyleModel",
          "state": {
            "_model_module": "@jupyter-widgets/controls",
            "_model_module_version": "1.5.0",
            "_model_name": "DescriptionStyleModel",
            "_view_count": null,
            "_view_module": "@jupyter-widgets/base",
            "_view_module_version": "1.2.0",
            "_view_name": "StyleView",
            "description_width": ""
          }
        }
      }
    }
  },
  "cells": [
    {
      "cell_type": "markdown",
      "metadata": {
        "id": "view-in-github",
        "colab_type": "text"
      },
      "source": [
        "<a href=\"https://colab.research.google.com/github/Alexamannn/NLP-Text-Mining-Prediction-to-get-Saracstic-reply-/blob/main/Text_mining_Sarcasm_Probility.ipynb\" target=\"_parent\"><img src=\"https://colab.research.google.com/assets/colab-badge.svg\" alt=\"Open In Colab\"/></a>"
      ]
    },
    {
      "cell_type": "code",
      "metadata": {
        "colab": {
          "resources": {
            "http://localhost:8080/nbextensions/google.colab/files.js": {
              "data": "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",
              "headers": [
                [
                  "content-type",
                  "application/javascript"
                ]
              ],
              "ok": true,
              "status": 200,
              "status_text": ""
            }
          },
          "base_uri": "https://localhost:8080/",
          "height": 90
        },
        "id": "Dydkia5CMqpq",
        "outputId": "1a537ffc-4baf-4f1a-c832-512673d8e3ba"
      },
      "source": [
        "from google.colab import files\n",
        "files.upload() #upload kaggle.json"
      ],
      "execution_count": null,
      "outputs": [
        {
          "output_type": "display_data",
          "data": {
            "text/html": [
              "\n",
              "     <input type=\"file\" id=\"files-42dd6d7a-796e-4c3c-be69-1e2f2c4e037a\" name=\"files[]\" multiple disabled\n",
              "        style=\"border:none\" />\n",
              "     <output id=\"result-42dd6d7a-796e-4c3c-be69-1e2f2c4e037a\">\n",
              "      Upload widget is only available when the cell has been executed in the\n",
              "      current browser session. Please rerun this cell to enable.\n",
              "      </output>\n",
              "      <script src=\"/nbextensions/google.colab/files.js\"></script> "
            ],
            "text/plain": [
              "<IPython.core.display.HTML object>"
            ]
          },
          "metadata": {
            "tags": []
          }
        },
        {
          "output_type": "stream",
          "text": [
            "Saving kaggle.json to kaggle.json\n"
          ],
          "name": "stdout"
        },
        {
          "output_type": "execute_result",
          "data": {
            "text/plain": [
              "{'kaggle.json': b'{\"username\":\"alexaman\",\"key\":\"db5b94bbf62d6c54956a11bbf090315d\"}'}"
            ]
          },
          "metadata": {
            "tags": []
          },
          "execution_count": 2
        }
      ]
    },
    {
      "cell_type": "code",
      "metadata": {
        "colab": {
          "base_uri": "https://localhost:8080/"
        },
        "id": "tfTZpGrHMtHm",
        "outputId": "e510da00-9ef4-424e-ab5f-df162fe89909"
      },
      "source": [
        "!pip install -q kaggle\n",
        "!mkdir -p ~/.kaggle\n",
        "!cp kaggle.json ~/.kaggle/\n",
        "!ls ~/.kaggle\n",
        "!chmod 600 /root/.kaggle/kaggle.json\n",
        "!kaggle datasets download -q danofer/sarcasm/\n",
        "!unzip /content/sarcasm.zip"
      ],
      "execution_count": null,
      "outputs": [
        {
          "output_type": "stream",
          "text": [
            "kaggle.json\n",
            "Archive:  /content/sarcasm.zip\n",
            "  inflating: test-balanced.csv       \n",
            "  inflating: test-unbalanced.csv     \n",
            "  inflating: train-balanced-sarc.csv.gz  \n",
            "  inflating: train-balanced-sarcasm.csv  \n"
          ],
          "name": "stdout"
        }
      ]
    },
    {
      "cell_type": "code",
      "metadata": {
        "id": "YyJXWFTkMvml"
      },
      "source": [
        "import pandas as pd\n",
        "import re\n",
        "data=pd.read_csv('/content/train-balanced-sarcasm.csv')\n",
        "data=data[['parent_comment','subreddit','label']]"
      ],
      "execution_count": null,
      "outputs": []
    },
    {
      "cell_type": "markdown",
      "metadata": {
        "id": "LyBHC3aRMyEK"
      },
      "source": [
        "POS TAGGING\n",
        "the Harvard IV-4 dictionary\n"
      ]
    },
    {
      "cell_type": "code",
      "metadata": {
        "colab": {
          "base_uri": "https://localhost:8080/"
        },
        "id": "W8fA1BoAMw6Z",
        "outputId": "455e59a0-bb9e-4e77-e51a-e368df81c569"
      },
      "source": [
        "!pip install -q swifter\n",
        "!pip install -q pysentiment2\n",
        "import swifter\n",
        "import nltk\n",
        "nltk.download('punkt')\n",
        "nltk.download('tagsets')\n",
        "nltk.download('averaged_perceptron_tagger')\n",
        "import pysentiment2 as ps\n",
        "from nltk.tokenize import word_tokenize"
      ],
      "execution_count": null,
      "outputs": [
        {
          "output_type": "stream",
          "text": [
            "\u001b[K     |████████████████████████████████| 634kB 8.6MB/s \n",
            "\u001b[K     |████████████████████████████████| 296kB 13.8MB/s \n",
            "\u001b[K     |████████████████████████████████| 583kB 9.9MB/s \n",
            "\u001b[K     |████████████████████████████████| 112kB 27.3MB/s \n",
            "\u001b[K     |████████████████████████████████| 48.5MB 55kB/s \n",
            "\u001b[K     |████████████████████████████████| 17.2MB 209kB/s \n",
            "\u001b[K     |████████████████████████████████| 81kB 12.0MB/s \n",
            "\u001b[K     |████████████████████████████████| 133kB 66.7MB/s \n",
            "\u001b[K     |████████████████████████████████| 81kB 12.6MB/s \n",
            "\u001b[K     |████████████████████████████████| 3.1MB 51.0MB/s \n",
            "\u001b[K     |████████████████████████████████| 204kB 63.1MB/s \n",
            "\u001b[K     |████████████████████████████████| 1.3MB 48.6MB/s \n",
            "\u001b[K     |████████████████████████████████| 71kB 11.3MB/s \n",
            "\u001b[K     |████████████████████████████████| 296kB 60.6MB/s \n",
            "\u001b[K     |████████████████████████████████| 143kB 60.0MB/s \n",
            "\u001b[K     |████████████████████████████████| 92kB 13.1MB/s \n",
            "\u001b[?25h  Building wheel for swifter (setup.py) ... \u001b[?25l\u001b[?25hdone\n",
            "  Building wheel for gpustat (setup.py) ... \u001b[?25l\u001b[?25hdone\n",
            "\u001b[31mERROR: modin 0.9.1 has requirement pandas==1.2.3, but you'll have pandas 1.1.5 which is incompatible.\u001b[0m\n",
            "\u001b[K     |████████████████████████████████| 1.9MB 9.3MB/s \n",
            "\u001b[?25h[nltk_data] Downloading package punkt to /root/nltk_data...\n",
            "[nltk_data]   Unzipping tokenizers/punkt.zip.\n",
            "[nltk_data] Downloading package tagsets to /root/nltk_data...\n",
            "[nltk_data]   Unzipping help/tagsets.zip.\n",
            "[nltk_data] Downloading package averaged_perceptron_tagger to\n",
            "[nltk_data]     /root/nltk_data...\n",
            "[nltk_data]   Unzipping taggers/averaged_perceptron_tagger.zip.\n"
          ],
          "name": "stdout"
        }
      ]
    },
    {
      "cell_type": "code",
      "metadata": {
        "id": "j7n6gtHuM2NR"
      },
      "source": [
        "hiv4 = ps.HIV4()"
      ],
      "execution_count": null,
      "outputs": []
    },
    {
      "cell_type": "code",
      "metadata": {
        "id": "W-evFdN5M4NF"
      },
      "source": [
        "def tags(x):\n",
        "   text = word_tokenize(str(x))\n",
        "   tags=nltk.pos_tag(text)\n",
        "   score = hiv4.get_score(text)\n",
        "   xx=[]\n",
        "   xx.append(tags)\n",
        "   return score,xx"
      ],
      "execution_count": null,
      "outputs": []
    },
    {
      "cell_type": "code",
      "metadata": {
        "colab": {
          "base_uri": "https://localhost:8080/",
          "height": 66,
          "referenced_widgets": [
            "f4387f6c30164958acc123b202daced9",
            "6c73ffbf13a5460285c5c7ebb4afdc12",
            "7b79f838f741474c84ea277ed21de0bc",
            "ebe9d92a0b224090bb5ad879de5ceb7b",
            "b67d4dc4bfaa4532bd474cc25581a258",
            "e46f07c0e7434d379c1bf398c8f81837",
            "261abeb273414f369eee94bc06d09efb",
            "831b189594134c0d868af261916e4ca2"
          ]
        },
        "id": "22XWv1tlM5Fp",
        "outputId": "efdb8b2f-0d00-4c78-efbe-c13a4e988c79"
      },
      "source": [
        "data['questionpos'] =data['parent_comment'].swifter.apply(lambda x :tags(x))"
      ],
      "execution_count": null,
      "outputs": [
        {
          "output_type": "display_data",
          "data": {
            "application/vnd.jupyter.widget-view+json": {
              "model_id": "f4387f6c30164958acc123b202daced9",
              "version_major": 2,
              "version_minor": 0
            },
            "text/plain": [
              "HBox(children=(FloatProgress(value=0.0, description='Pandas Apply', max=1010826.0, style=ProgressStyle(descrip…"
            ]
          },
          "metadata": {
            "tags": []
          }
        },
        {
          "output_type": "stream",
          "text": [
            "\n"
          ],
          "name": "stdout"
        }
      ]
    },
    {
      "cell_type": "code",
      "metadata": {
        "colab": {
          "base_uri": "https://localhost:8080/",
          "height": 402
        },
        "id": "c5n5FMt8f59i",
        "outputId": "8b0a98bb-42c9-4f1d-daba-7896d191441b"
      },
      "source": [
        "data"
      ],
      "execution_count": null,
      "outputs": [
        {
          "output_type": "execute_result",
          "data": {
            "text/html": [
              "<div>\n",
              "<style scoped>\n",
              "    .dataframe tbody tr th:only-of-type {\n",
              "        vertical-align: middle;\n",
              "    }\n",
              "\n",
              "    .dataframe tbody tr th {\n",
              "        vertical-align: top;\n",
              "    }\n",
              "\n",
              "    .dataframe thead th {\n",
              "        text-align: right;\n",
              "    }\n",
              "</style>\n",
              "<table border=\"1\" class=\"dataframe\">\n",
              "  <thead>\n",
              "    <tr style=\"text-align: right;\">\n",
              "      <th></th>\n",
              "      <th>parent_comment</th>\n",
              "      <th>subreddit</th>\n",
              "      <th>label</th>\n",
              "      <th>questionpos</th>\n",
              "    </tr>\n",
              "  </thead>\n",
              "  <tbody>\n",
              "    <tr>\n",
              "      <th>0</th>\n",
              "      <td>Yeah, I get that argument. At this point, I'd ...</td>\n",
              "      <td>politics</td>\n",
              "      <td>0</td>\n",
              "      <td>({'Positive': 1, 'Negative': 3, 'Polarity': -0...</td>\n",
              "    </tr>\n",
              "    <tr>\n",
              "      <th>1</th>\n",
              "      <td>The blazers and Mavericks (The wests 5 and 6 s...</td>\n",
              "      <td>nba</td>\n",
              "      <td>0</td>\n",
              "      <td>({'Positive': 1, 'Negative': 0, 'Polarity': 0....</td>\n",
              "    </tr>\n",
              "    <tr>\n",
              "      <th>2</th>\n",
              "      <td>They're favored to win.</td>\n",
              "      <td>nfl</td>\n",
              "      <td>0</td>\n",
              "      <td>({'Positive': 0, 'Negative': 0, 'Polarity': 0....</td>\n",
              "    </tr>\n",
              "    <tr>\n",
              "      <th>3</th>\n",
              "      <td>deadass don't kill my buzz</td>\n",
              "      <td>BlackPeopleTwitter</td>\n",
              "      <td>0</td>\n",
              "      <td>({'Positive': 0, 'Negative': 1, 'Polarity': -0...</td>\n",
              "    </tr>\n",
              "    <tr>\n",
              "      <th>4</th>\n",
              "      <td>Yep can confirm I saw the tool they use for th...</td>\n",
              "      <td>MaddenUltimateTeam</td>\n",
              "      <td>0</td>\n",
              "      <td>({'Positive': 1, 'Negative': 0, 'Polarity': 0....</td>\n",
              "    </tr>\n",
              "    <tr>\n",
              "      <th>...</th>\n",
              "      <td>...</td>\n",
              "      <td>...</td>\n",
              "      <td>...</td>\n",
              "      <td>...</td>\n",
              "    </tr>\n",
              "    <tr>\n",
              "      <th>1010821</th>\n",
              "      <td>No one is calling this an engineered pathogen,...</td>\n",
              "      <td>reddit.com</td>\n",
              "      <td>1</td>\n",
              "      <td>({'Positive': 1, 'Negative': 0, 'Polarity': 0....</td>\n",
              "    </tr>\n",
              "    <tr>\n",
              "      <th>1010822</th>\n",
              "      <td>In a move typical of their recent do-nothing a...</td>\n",
              "      <td>climate</td>\n",
              "      <td>1</td>\n",
              "      <td>({'Positive': 1, 'Negative': 0, 'Polarity': 0....</td>\n",
              "    </tr>\n",
              "    <tr>\n",
              "      <th>1010823</th>\n",
              "      <td>Screw the Disabled--I've got to get to Church ...</td>\n",
              "      <td>atheism</td>\n",
              "      <td>1</td>\n",
              "      <td>({'Positive': 0, 'Negative': 1, 'Polarity': -0...</td>\n",
              "    </tr>\n",
              "    <tr>\n",
              "      <th>1010824</th>\n",
              "      <td>I've always been unsettled by that. I hear a l...</td>\n",
              "      <td>worldnews</td>\n",
              "      <td>1</td>\n",
              "      <td>({'Positive': 0, 'Negative': 0, 'Polarity': 0....</td>\n",
              "    </tr>\n",
              "    <tr>\n",
              "      <th>1010825</th>\n",
              "      <td>Why do the people who make our laws seem unabl...</td>\n",
              "      <td>politics</td>\n",
              "      <td>1</td>\n",
              "      <td>({'Positive': 2, 'Negative': 0, 'Polarity': 0....</td>\n",
              "    </tr>\n",
              "  </tbody>\n",
              "</table>\n",
              "<p>1010826 rows × 4 columns</p>\n",
              "</div>"
            ],
            "text/plain": [
              "                                            parent_comment  ...                                        questionpos\n",
              "0        Yeah, I get that argument. At this point, I'd ...  ...  ({'Positive': 1, 'Negative': 3, 'Polarity': -0...\n",
              "1        The blazers and Mavericks (The wests 5 and 6 s...  ...  ({'Positive': 1, 'Negative': 0, 'Polarity': 0....\n",
              "2                                  They're favored to win.  ...  ({'Positive': 0, 'Negative': 0, 'Polarity': 0....\n",
              "3                               deadass don't kill my buzz  ...  ({'Positive': 0, 'Negative': 1, 'Polarity': -0...\n",
              "4        Yep can confirm I saw the tool they use for th...  ...  ({'Positive': 1, 'Negative': 0, 'Polarity': 0....\n",
              "...                                                    ...  ...                                                ...\n",
              "1010821  No one is calling this an engineered pathogen,...  ...  ({'Positive': 1, 'Negative': 0, 'Polarity': 0....\n",
              "1010822  In a move typical of their recent do-nothing a...  ...  ({'Positive': 1, 'Negative': 0, 'Polarity': 0....\n",
              "1010823  Screw the Disabled--I've got to get to Church ...  ...  ({'Positive': 0, 'Negative': 1, 'Polarity': -0...\n",
              "1010824  I've always been unsettled by that. I hear a l...  ...  ({'Positive': 0, 'Negative': 0, 'Polarity': 0....\n",
              "1010825  Why do the people who make our laws seem unabl...  ...  ({'Positive': 2, 'Negative': 0, 'Polarity': 0....\n",
              "\n",
              "[1010826 rows x 4 columns]"
            ]
          },
          "metadata": {
            "tags": []
          },
          "execution_count": 8
        }
      ]
    },
    {
      "cell_type": "code",
      "metadata": {
        "id": "rapGLhKkM7uJ"
      },
      "source": [
        "data.to_csv('data.csv')\n",
        "%reset -f"
      ],
      "execution_count": null,
      "outputs": []
    },
    {
      "cell_type": "code",
      "metadata": {
        "id": "0765t2N3NGoV"
      },
      "source": [
        "import pandas as pd\n",
        "data=pd.read_csv('data.csv')"
      ],
      "execution_count": null,
      "outputs": []
    },
    {
      "cell_type": "code",
      "metadata": {
        "id": "2Ey5J7csG80d"
      },
      "source": [
        " #import pandas as pd\n",
        " #data=pd.read_csv('/content/drive/MyDrive/data.csv')"
      ],
      "execution_count": null,
      "outputs": []
    },
    {
      "cell_type": "code",
      "metadata": {
        "id": "4czQ1lTrPKom"
      },
      "source": [
        "data['questionpol']=data['questionpos'].str.findall(r'{\\'+([^}]+)}')\n",
        "x1= pd.DataFrame(data.questionpol.apply(lambda x:str(x).split(',',4)).tolist(), index= data.index)\n",
        "data['Positive']=x1[0].str.extract('([0-9]+[,./]*[0-9]*)', expand=False)\n",
        "data['Negative']=x1[1].str.extract('([0-9]+[,./]*[0-9]*)', expand=False)\n",
        "data['Polarity']=x1[2].str.extract('([0-9]+[,./]*[0-9]*)', expand=False)\n",
        "data['Subjectivity']=x1[3].str.extract('([0-9]+[,./]*[0-9]*)', expand=False)"
      ],
      "execution_count": null,
      "outputs": []
    },
    {
      "cell_type": "code",
      "metadata": {
        "colab": {
          "base_uri": "https://localhost:8080/"
        },
        "id": "VGx-KHEFcmXC",
        "outputId": "5ae935b6-2d97-4703-d348-00d1f6605329"
      },
      "source": [
        "import nltk\n",
        "nltk.download('punkt')\n",
        "nltk.download('tagsets')\n",
        "nltk.download('averaged_perceptron_tagger')\n",
        "from nltk.tokenize import word_tokenize"
      ],
      "execution_count": null,
      "outputs": [
        {
          "output_type": "stream",
          "text": [
            "[nltk_data] Downloading package punkt to /root/nltk_data...\n",
            "[nltk_data]   Package punkt is already up-to-date!\n",
            "[nltk_data] Downloading package tagsets to /root/nltk_data...\n",
            "[nltk_data]   Package tagsets is already up-to-date!\n",
            "[nltk_data] Downloading package averaged_perceptron_tagger to\n",
            "[nltk_data]     /root/nltk_data...\n",
            "[nltk_data]   Package averaged_perceptron_tagger is already up-to-\n",
            "[nltk_data]       date!\n"
          ],
          "name": "stdout"
        }
      ]
    },
    {
      "cell_type": "code",
      "metadata": {
        "colab": {
          "base_uri": "https://localhost:8080/",
          "height": 704
        },
        "id": "Rey3_PtqALKo",
        "outputId": "f706f21c-52e2-4f84-f706-90a0a195b46d"
      },
      "source": [
        "data['questionpos']=data['questionpos'].str.replace(r'{\\'+([^}]+)}','')\n",
        "data['postags'] = data['questionpos'].str.findall(r',\\s\\'([a-zA-Z]+).*?\\)')\n",
        "data=data[['label','parent_comment','Positive','Negative','Subjectivity','postags','Polarity','subreddit']]\n",
        "data"
      ],
      "execution_count": null,
      "outputs": [
        {
          "output_type": "execute_result",
          "data": {
            "text/html": [
              "<div>\n",
              "<style scoped>\n",
              "    .dataframe tbody tr th:only-of-type {\n",
              "        vertical-align: middle;\n",
              "    }\n",
              "\n",
              "    .dataframe tbody tr th {\n",
              "        vertical-align: top;\n",
              "    }\n",
              "\n",
              "    .dataframe thead th {\n",
              "        text-align: right;\n",
              "    }\n",
              "</style>\n",
              "<table border=\"1\" class=\"dataframe\">\n",
              "  <thead>\n",
              "    <tr style=\"text-align: right;\">\n",
              "      <th></th>\n",
              "      <th>label</th>\n",
              "      <th>parent_comment</th>\n",
              "      <th>Positive</th>\n",
              "      <th>Negative</th>\n",
              "      <th>Subjectivity</th>\n",
              "      <th>postags</th>\n",
              "      <th>Polarity</th>\n",
              "      <th>subreddit</th>\n",
              "    </tr>\n",
              "  </thead>\n",
              "  <tbody>\n",
              "    <tr>\n",
              "      <th>0</th>\n",
              "      <td>0</td>\n",
              "      <td>Yeah, I get that argument. At this point, I'd ...</td>\n",
              "      <td>1</td>\n",
              "      <td>3</td>\n",
              "      <td>0.18181817355371938</td>\n",
              "      <td>[UH, PRP, VBP, DT, NN, IN, DT, NN, PRP, MD, VB...</td>\n",
              "      <td>0.49999987500003124</td>\n",
              "      <td>politics</td>\n",
              "    </tr>\n",
              "    <tr>\n",
              "      <th>1</th>\n",
              "      <td>0</td>\n",
              "      <td>The blazers and Mavericks (The wests 5 and 6 s...</td>\n",
              "      <td>1</td>\n",
              "      <td>0</td>\n",
              "      <td>0.033333332222222255</td>\n",
              "      <td>[DT, NNS, CC, NNP, DT, NNS, CD, CC, CD, NN, VB...</td>\n",
              "      <td>0.9999990000010001</td>\n",
              "      <td>nba</td>\n",
              "    </tr>\n",
              "    <tr>\n",
              "      <th>2</th>\n",
              "      <td>0</td>\n",
              "      <td>They're favored to win.</td>\n",
              "      <td>0</td>\n",
              "      <td>0</td>\n",
              "      <td>0.0</td>\n",
              "      <td>[PRP, VBP, VBN, TO, VB]</td>\n",
              "      <td>0.0</td>\n",
              "      <td>nfl</td>\n",
              "    </tr>\n",
              "    <tr>\n",
              "      <th>3</th>\n",
              "      <td>0</td>\n",
              "      <td>deadass don't kill my buzz</td>\n",
              "      <td>0</td>\n",
              "      <td>1</td>\n",
              "      <td>0.16666663888889352</td>\n",
              "      <td>[NN, VBP, RB, VB, PRP, NN]</td>\n",
              "      <td>0.9999990000010001</td>\n",
              "      <td>BlackPeopleTwitter</td>\n",
              "    </tr>\n",
              "    <tr>\n",
              "      <th>4</th>\n",
              "      <td>0</td>\n",
              "      <td>Yep can confirm I saw the tool they use for th...</td>\n",
              "      <td>1</td>\n",
              "      <td>0</td>\n",
              "      <td>0.05263157617728546</td>\n",
              "      <td>[NN, MD, VB, PRP, VBD, DT, NN, PRP, VBP, IN, D...</td>\n",
              "      <td>0.9999990000010001</td>\n",
              "      <td>MaddenUltimateTeam</td>\n",
              "    </tr>\n",
              "    <tr>\n",
              "      <th>...</th>\n",
              "      <td>...</td>\n",
              "      <td>...</td>\n",
              "      <td>...</td>\n",
              "      <td>...</td>\n",
              "      <td>...</td>\n",
              "      <td>...</td>\n",
              "      <td>...</td>\n",
              "      <td>...</td>\n",
              "    </tr>\n",
              "    <tr>\n",
              "      <th>1010821</th>\n",
              "      <td>1</td>\n",
              "      <td>No one is calling this an engineered pathogen,...</td>\n",
              "      <td>1</td>\n",
              "      <td>0</td>\n",
              "      <td>0.031249999023437534</td>\n",
              "      <td>[DT, NN, VBZ, VBG, DT, DT, JJ, NN, CC, EX, VBP...</td>\n",
              "      <td>0.9999990000010001</td>\n",
              "      <td>reddit.com</td>\n",
              "    </tr>\n",
              "    <tr>\n",
              "      <th>1010822</th>\n",
              "      <td>1</td>\n",
              "      <td>In a move typical of their recent do-nothing a...</td>\n",
              "      <td>1</td>\n",
              "      <td>0</td>\n",
              "      <td>0.037037035665294975</td>\n",
              "      <td>[IN, DT, NN, NN, IN, PRP, JJ, JJ, NN, TO, NNP,...</td>\n",
              "      <td>0.9999990000010001</td>\n",
              "      <td>climate</td>\n",
              "    </tr>\n",
              "    <tr>\n",
              "      <th>1010823</th>\n",
              "      <td>1</td>\n",
              "      <td>Screw the Disabled--I've got to get to Church ...</td>\n",
              "      <td>0</td>\n",
              "      <td>1</td>\n",
              "      <td>0.07692307100591762</td>\n",
              "      <td>[NNP, DT, NNP, PRP, VBP, VBN, TO, VB, TO, VB, ...</td>\n",
              "      <td>0.9999990000010001</td>\n",
              "      <td>atheism</td>\n",
              "    </tr>\n",
              "    <tr>\n",
              "      <th>1010824</th>\n",
              "      <td>1</td>\n",
              "      <td>I've always been unsettled by that. I hear a l...</td>\n",
              "      <td>0</td>\n",
              "      <td>0</td>\n",
              "      <td>0.0</td>\n",
              "      <td>[PRP, VBP, RB, VBN, VBN, IN, DT, PRP, VBP, DT,...</td>\n",
              "      <td>0.0</td>\n",
              "      <td>worldnews</td>\n",
              "    </tr>\n",
              "    <tr>\n",
              "      <th>1010825</th>\n",
              "      <td>1</td>\n",
              "      <td>Why do the people who make our laws seem unabl...</td>\n",
              "      <td>2</td>\n",
              "      <td>0</td>\n",
              "      <td>0.11111110493827195</td>\n",
              "      <td>[WRB, VBP, DT, NNS, WP, VBP, PRP, NNS, VBP, JJ...</td>\n",
              "      <td>0.99999950000025</td>\n",
              "      <td>politics</td>\n",
              "    </tr>\n",
              "  </tbody>\n",
              "</table>\n",
              "<p>1010826 rows × 8 columns</p>\n",
              "</div>"
            ],
            "text/plain": [
              "         label  ...           subreddit\n",
              "0            0  ...            politics\n",
              "1            0  ...                 nba\n",
              "2            0  ...                 nfl\n",
              "3            0  ...  BlackPeopleTwitter\n",
              "4            0  ...  MaddenUltimateTeam\n",
              "...        ...  ...                 ...\n",
              "1010821      1  ...          reddit.com\n",
              "1010822      1  ...             climate\n",
              "1010823      1  ...             atheism\n",
              "1010824      1  ...           worldnews\n",
              "1010825      1  ...            politics\n",
              "\n",
              "[1010826 rows x 8 columns]"
            ]
          },
          "metadata": {
            "tags": []
          },
          "execution_count": 14
        }
      ]
    },
    {
      "cell_type": "code",
      "metadata": {
        "id": "rLkM9STkiP6A"
      },
      "source": [
        "data.to_csv('data.csv')\n",
        "%reset -f\n"
      ],
      "execution_count": null,
      "outputs": []
    },
    {
      "cell_type": "markdown",
      "metadata": {
        "id": "0wYATueK3HkN"
      },
      "source": [
        "POS Sequence Frequency and Dimension Reduction"
      ]
    },
    {
      "cell_type": "code",
      "metadata": {
        "id": "-0p9GxKrkRuc"
      },
      "source": [
        "import pandas as pd\n",
        "import nltk\n",
        "data=pd.read_csv('data.csv')"
      ],
      "execution_count": null,
      "outputs": []
    },
    {
      "cell_type": "code",
      "metadata": {
        "colab": {
          "base_uri": "https://localhost:8080/"
        },
        "id": "ju2oW-mHUcs5",
        "outputId": "8f1ca6b5-aae5-4984-d75e-fe8d5edf8ff6"
      },
      "source": [
        "from keras.preprocessing.text import Tokenizer\n",
        "from sklearn.feature_extraction.text import CountVectorizer\n",
        "\n",
        "vectorizer = CountVectorizer(stop_words='english', binary=True)\n",
        "vectorizer.fit_transform(data.postags)"
      ],
      "execution_count": null,
      "outputs": [
        {
          "output_type": "execute_result",
          "data": {
            "text/plain": [
              "<1010826x32 sparse matrix of type '<class 'numpy.int64'>'\n",
              "\twith 8655227 stored elements in Compressed Sparse Row format>"
            ]
          },
          "metadata": {
            "tags": []
          },
          "execution_count": 17
        }
      ]
    },
    {
      "cell_type": "code",
      "metadata": {
        "id": "FtmwDZVU8-zT"
      },
      "source": [
        "#nltk.help.upenn_tagset()"
      ],
      "execution_count": null,
      "outputs": []
    },
    {
      "cell_type": "code",
      "metadata": {
        "colab": {
          "base_uri": "https://localhost:8080/"
        },
        "id": "m6BvAiRyUhjt",
        "outputId": "2dd0a4b9-11ab-470b-bc1b-101793a098aa"
      },
      "source": [
        "vectorized_data = vectorizer.transform(data.postags)\n",
        "xx=vectorized_data.todense()\n",
        "vectorized_data.todense()"
      ],
      "execution_count": null,
      "outputs": [
        {
          "output_type": "execute_result",
          "data": {
            "text/plain": [
              "matrix([[0, 0, 1, ..., 0, 0, 0],\n",
              "        [1, 1, 1, ..., 0, 0, 0],\n",
              "        [0, 0, 0, ..., 0, 0, 0],\n",
              "        ...,\n",
              "        [0, 0, 1, ..., 0, 0, 0],\n",
              "        [1, 0, 1, ..., 0, 0, 0],\n",
              "        [0, 0, 1, ..., 0, 1, 1]])"
            ]
          },
          "metadata": {
            "tags": []
          },
          "execution_count": 19
        }
      ]
    },
    {
      "cell_type": "code",
      "metadata": {
        "id": "yYDWXBHEUjTq"
      },
      "source": [
        "denselist = xx.tolist()"
      ],
      "execution_count": null,
      "outputs": []
    },
    {
      "cell_type": "code",
      "metadata": {
        "id": "umdWVT2EUlPd"
      },
      "source": [
        "pos = pd.DataFrame(denselist,columns=vectorizer.get_feature_names())"
      ],
      "execution_count": null,
      "outputs": []
    },
    {
      "cell_type": "code",
      "metadata": {
        "colab": {
          "base_uri": "https://localhost:8080/",
          "height": 422
        },
        "id": "HfiEpzCSUqhi",
        "outputId": "261953b3-8ee9-4683-a5a1-98afb9ae2e6e"
      },
      "source": [
        "pos"
      ],
      "execution_count": null,
      "outputs": [
        {
          "output_type": "execute_result",
          "data": {
            "text/html": [
              "<div>\n",
              "<style scoped>\n",
              "    .dataframe tbody tr th:only-of-type {\n",
              "        vertical-align: middle;\n",
              "    }\n",
              "\n",
              "    .dataframe tbody tr th {\n",
              "        vertical-align: top;\n",
              "    }\n",
              "\n",
              "    .dataframe thead th {\n",
              "        text-align: right;\n",
              "    }\n",
              "</style>\n",
              "<table border=\"1\" class=\"dataframe\">\n",
              "  <thead>\n",
              "    <tr style=\"text-align: right;\">\n",
              "      <th></th>\n",
              "      <th>cc</th>\n",
              "      <th>cd</th>\n",
              "      <th>dt</th>\n",
              "      <th>ex</th>\n",
              "      <th>fw</th>\n",
              "      <th>jj</th>\n",
              "      <th>jjr</th>\n",
              "      <th>jjs</th>\n",
              "      <th>ls</th>\n",
              "      <th>md</th>\n",
              "      <th>nn</th>\n",
              "      <th>nnp</th>\n",
              "      <th>nnps</th>\n",
              "      <th>nns</th>\n",
              "      <th>pdt</th>\n",
              "      <th>pos</th>\n",
              "      <th>prp</th>\n",
              "      <th>rb</th>\n",
              "      <th>rbr</th>\n",
              "      <th>rbs</th>\n",
              "      <th>rp</th>\n",
              "      <th>sym</th>\n",
              "      <th>uh</th>\n",
              "      <th>vb</th>\n",
              "      <th>vbd</th>\n",
              "      <th>vbg</th>\n",
              "      <th>vbn</th>\n",
              "      <th>vbp</th>\n",
              "      <th>vbz</th>\n",
              "      <th>wdt</th>\n",
              "      <th>wp</th>\n",
              "      <th>wrb</th>\n",
              "    </tr>\n",
              "  </thead>\n",
              "  <tbody>\n",
              "    <tr>\n",
              "      <th>0</th>\n",
              "      <td>0</td>\n",
              "      <td>0</td>\n",
              "      <td>1</td>\n",
              "      <td>0</td>\n",
              "      <td>0</td>\n",
              "      <td>0</td>\n",
              "      <td>0</td>\n",
              "      <td>0</td>\n",
              "      <td>0</td>\n",
              "      <td>1</td>\n",
              "      <td>1</td>\n",
              "      <td>1</td>\n",
              "      <td>0</td>\n",
              "      <td>0</td>\n",
              "      <td>0</td>\n",
              "      <td>0</td>\n",
              "      <td>1</td>\n",
              "      <td>1</td>\n",
              "      <td>0</td>\n",
              "      <td>0</td>\n",
              "      <td>0</td>\n",
              "      <td>0</td>\n",
              "      <td>1</td>\n",
              "      <td>1</td>\n",
              "      <td>1</td>\n",
              "      <td>0</td>\n",
              "      <td>0</td>\n",
              "      <td>1</td>\n",
              "      <td>1</td>\n",
              "      <td>0</td>\n",
              "      <td>0</td>\n",
              "      <td>0</td>\n",
              "    </tr>\n",
              "    <tr>\n",
              "      <th>1</th>\n",
              "      <td>1</td>\n",
              "      <td>1</td>\n",
              "      <td>1</td>\n",
              "      <td>0</td>\n",
              "      <td>0</td>\n",
              "      <td>1</td>\n",
              "      <td>0</td>\n",
              "      <td>0</td>\n",
              "      <td>0</td>\n",
              "      <td>0</td>\n",
              "      <td>1</td>\n",
              "      <td>1</td>\n",
              "      <td>0</td>\n",
              "      <td>1</td>\n",
              "      <td>0</td>\n",
              "      <td>0</td>\n",
              "      <td>0</td>\n",
              "      <td>1</td>\n",
              "      <td>0</td>\n",
              "      <td>0</td>\n",
              "      <td>0</td>\n",
              "      <td>0</td>\n",
              "      <td>0</td>\n",
              "      <td>1</td>\n",
              "      <td>1</td>\n",
              "      <td>0</td>\n",
              "      <td>0</td>\n",
              "      <td>0</td>\n",
              "      <td>0</td>\n",
              "      <td>0</td>\n",
              "      <td>0</td>\n",
              "      <td>0</td>\n",
              "    </tr>\n",
              "    <tr>\n",
              "      <th>2</th>\n",
              "      <td>0</td>\n",
              "      <td>0</td>\n",
              "      <td>0</td>\n",
              "      <td>0</td>\n",
              "      <td>0</td>\n",
              "      <td>0</td>\n",
              "      <td>0</td>\n",
              "      <td>0</td>\n",
              "      <td>0</td>\n",
              "      <td>0</td>\n",
              "      <td>0</td>\n",
              "      <td>0</td>\n",
              "      <td>0</td>\n",
              "      <td>0</td>\n",
              "      <td>0</td>\n",
              "      <td>0</td>\n",
              "      <td>1</td>\n",
              "      <td>0</td>\n",
              "      <td>0</td>\n",
              "      <td>0</td>\n",
              "      <td>0</td>\n",
              "      <td>0</td>\n",
              "      <td>0</td>\n",
              "      <td>1</td>\n",
              "      <td>0</td>\n",
              "      <td>0</td>\n",
              "      <td>1</td>\n",
              "      <td>1</td>\n",
              "      <td>0</td>\n",
              "      <td>0</td>\n",
              "      <td>0</td>\n",
              "      <td>0</td>\n",
              "    </tr>\n",
              "    <tr>\n",
              "      <th>3</th>\n",
              "      <td>0</td>\n",
              "      <td>0</td>\n",
              "      <td>0</td>\n",
              "      <td>0</td>\n",
              "      <td>0</td>\n",
              "      <td>0</td>\n",
              "      <td>0</td>\n",
              "      <td>0</td>\n",
              "      <td>0</td>\n",
              "      <td>0</td>\n",
              "      <td>1</td>\n",
              "      <td>0</td>\n",
              "      <td>0</td>\n",
              "      <td>0</td>\n",
              "      <td>0</td>\n",
              "      <td>0</td>\n",
              "      <td>1</td>\n",
              "      <td>1</td>\n",
              "      <td>0</td>\n",
              "      <td>0</td>\n",
              "      <td>0</td>\n",
              "      <td>0</td>\n",
              "      <td>0</td>\n",
              "      <td>1</td>\n",
              "      <td>0</td>\n",
              "      <td>0</td>\n",
              "      <td>0</td>\n",
              "      <td>1</td>\n",
              "      <td>0</td>\n",
              "      <td>0</td>\n",
              "      <td>0</td>\n",
              "      <td>0</td>\n",
              "    </tr>\n",
              "    <tr>\n",
              "      <th>4</th>\n",
              "      <td>0</td>\n",
              "      <td>0</td>\n",
              "      <td>1</td>\n",
              "      <td>0</td>\n",
              "      <td>0</td>\n",
              "      <td>0</td>\n",
              "      <td>0</td>\n",
              "      <td>0</td>\n",
              "      <td>0</td>\n",
              "      <td>1</td>\n",
              "      <td>1</td>\n",
              "      <td>1</td>\n",
              "      <td>0</td>\n",
              "      <td>0</td>\n",
              "      <td>0</td>\n",
              "      <td>0</td>\n",
              "      <td>1</td>\n",
              "      <td>0</td>\n",
              "      <td>0</td>\n",
              "      <td>0</td>\n",
              "      <td>0</td>\n",
              "      <td>0</td>\n",
              "      <td>0</td>\n",
              "      <td>1</td>\n",
              "      <td>1</td>\n",
              "      <td>0</td>\n",
              "      <td>1</td>\n",
              "      <td>1</td>\n",
              "      <td>0</td>\n",
              "      <td>0</td>\n",
              "      <td>0</td>\n",
              "      <td>0</td>\n",
              "    </tr>\n",
              "    <tr>\n",
              "      <th>...</th>\n",
              "      <td>...</td>\n",
              "      <td>...</td>\n",
              "      <td>...</td>\n",
              "      <td>...</td>\n",
              "      <td>...</td>\n",
              "      <td>...</td>\n",
              "      <td>...</td>\n",
              "      <td>...</td>\n",
              "      <td>...</td>\n",
              "      <td>...</td>\n",
              "      <td>...</td>\n",
              "      <td>...</td>\n",
              "      <td>...</td>\n",
              "      <td>...</td>\n",
              "      <td>...</td>\n",
              "      <td>...</td>\n",
              "      <td>...</td>\n",
              "      <td>...</td>\n",
              "      <td>...</td>\n",
              "      <td>...</td>\n",
              "      <td>...</td>\n",
              "      <td>...</td>\n",
              "      <td>...</td>\n",
              "      <td>...</td>\n",
              "      <td>...</td>\n",
              "      <td>...</td>\n",
              "      <td>...</td>\n",
              "      <td>...</td>\n",
              "      <td>...</td>\n",
              "      <td>...</td>\n",
              "      <td>...</td>\n",
              "      <td>...</td>\n",
              "    </tr>\n",
              "    <tr>\n",
              "      <th>1010821</th>\n",
              "      <td>1</td>\n",
              "      <td>0</td>\n",
              "      <td>1</td>\n",
              "      <td>1</td>\n",
              "      <td>0</td>\n",
              "      <td>1</td>\n",
              "      <td>0</td>\n",
              "      <td>0</td>\n",
              "      <td>0</td>\n",
              "      <td>0</td>\n",
              "      <td>1</td>\n",
              "      <td>0</td>\n",
              "      <td>0</td>\n",
              "      <td>1</td>\n",
              "      <td>0</td>\n",
              "      <td>0</td>\n",
              "      <td>1</td>\n",
              "      <td>1</td>\n",
              "      <td>0</td>\n",
              "      <td>0</td>\n",
              "      <td>0</td>\n",
              "      <td>0</td>\n",
              "      <td>0</td>\n",
              "      <td>0</td>\n",
              "      <td>0</td>\n",
              "      <td>1</td>\n",
              "      <td>0</td>\n",
              "      <td>1</td>\n",
              "      <td>1</td>\n",
              "      <td>1</td>\n",
              "      <td>0</td>\n",
              "      <td>0</td>\n",
              "    </tr>\n",
              "    <tr>\n",
              "      <th>1010822</th>\n",
              "      <td>0</td>\n",
              "      <td>0</td>\n",
              "      <td>1</td>\n",
              "      <td>0</td>\n",
              "      <td>0</td>\n",
              "      <td>1</td>\n",
              "      <td>0</td>\n",
              "      <td>0</td>\n",
              "      <td>0</td>\n",
              "      <td>0</td>\n",
              "      <td>1</td>\n",
              "      <td>1</td>\n",
              "      <td>0</td>\n",
              "      <td>1</td>\n",
              "      <td>0</td>\n",
              "      <td>0</td>\n",
              "      <td>1</td>\n",
              "      <td>0</td>\n",
              "      <td>0</td>\n",
              "      <td>0</td>\n",
              "      <td>0</td>\n",
              "      <td>0</td>\n",
              "      <td>0</td>\n",
              "      <td>1</td>\n",
              "      <td>0</td>\n",
              "      <td>0</td>\n",
              "      <td>0</td>\n",
              "      <td>0</td>\n",
              "      <td>1</td>\n",
              "      <td>0</td>\n",
              "      <td>0</td>\n",
              "      <td>0</td>\n",
              "    </tr>\n",
              "    <tr>\n",
              "      <th>1010823</th>\n",
              "      <td>0</td>\n",
              "      <td>0</td>\n",
              "      <td>1</td>\n",
              "      <td>0</td>\n",
              "      <td>0</td>\n",
              "      <td>0</td>\n",
              "      <td>0</td>\n",
              "      <td>0</td>\n",
              "      <td>0</td>\n",
              "      <td>0</td>\n",
              "      <td>1</td>\n",
              "      <td>1</td>\n",
              "      <td>0</td>\n",
              "      <td>0</td>\n",
              "      <td>0</td>\n",
              "      <td>0</td>\n",
              "      <td>1</td>\n",
              "      <td>0</td>\n",
              "      <td>0</td>\n",
              "      <td>0</td>\n",
              "      <td>0</td>\n",
              "      <td>0</td>\n",
              "      <td>0</td>\n",
              "      <td>1</td>\n",
              "      <td>0</td>\n",
              "      <td>0</td>\n",
              "      <td>1</td>\n",
              "      <td>1</td>\n",
              "      <td>0</td>\n",
              "      <td>0</td>\n",
              "      <td>0</td>\n",
              "      <td>0</td>\n",
              "    </tr>\n",
              "    <tr>\n",
              "      <th>1010824</th>\n",
              "      <td>1</td>\n",
              "      <td>0</td>\n",
              "      <td>1</td>\n",
              "      <td>0</td>\n",
              "      <td>0</td>\n",
              "      <td>1</td>\n",
              "      <td>0</td>\n",
              "      <td>0</td>\n",
              "      <td>0</td>\n",
              "      <td>1</td>\n",
              "      <td>1</td>\n",
              "      <td>1</td>\n",
              "      <td>1</td>\n",
              "      <td>1</td>\n",
              "      <td>0</td>\n",
              "      <td>0</td>\n",
              "      <td>1</td>\n",
              "      <td>1</td>\n",
              "      <td>0</td>\n",
              "      <td>0</td>\n",
              "      <td>0</td>\n",
              "      <td>0</td>\n",
              "      <td>0</td>\n",
              "      <td>1</td>\n",
              "      <td>1</td>\n",
              "      <td>0</td>\n",
              "      <td>1</td>\n",
              "      <td>1</td>\n",
              "      <td>1</td>\n",
              "      <td>0</td>\n",
              "      <td>0</td>\n",
              "      <td>0</td>\n",
              "    </tr>\n",
              "    <tr>\n",
              "      <th>1010825</th>\n",
              "      <td>0</td>\n",
              "      <td>0</td>\n",
              "      <td>1</td>\n",
              "      <td>0</td>\n",
              "      <td>0</td>\n",
              "      <td>1</td>\n",
              "      <td>0</td>\n",
              "      <td>0</td>\n",
              "      <td>0</td>\n",
              "      <td>0</td>\n",
              "      <td>1</td>\n",
              "      <td>0</td>\n",
              "      <td>0</td>\n",
              "      <td>1</td>\n",
              "      <td>0</td>\n",
              "      <td>1</td>\n",
              "      <td>1</td>\n",
              "      <td>0</td>\n",
              "      <td>0</td>\n",
              "      <td>0</td>\n",
              "      <td>0</td>\n",
              "      <td>0</td>\n",
              "      <td>0</td>\n",
              "      <td>1</td>\n",
              "      <td>0</td>\n",
              "      <td>0</td>\n",
              "      <td>0</td>\n",
              "      <td>1</td>\n",
              "      <td>0</td>\n",
              "      <td>0</td>\n",
              "      <td>1</td>\n",
              "      <td>1</td>\n",
              "    </tr>\n",
              "  </tbody>\n",
              "</table>\n",
              "<p>1010826 rows × 32 columns</p>\n",
              "</div>"
            ],
            "text/plain": [
              "         cc  cd  dt  ex  fw  jj  jjr  ...  vbg  vbn  vbp  vbz  wdt  wp  wrb\n",
              "0         0   0   1   0   0   0    0  ...    0    0    1    1    0   0    0\n",
              "1         1   1   1   0   0   1    0  ...    0    0    0    0    0   0    0\n",
              "2         0   0   0   0   0   0    0  ...    0    1    1    0    0   0    0\n",
              "3         0   0   0   0   0   0    0  ...    0    0    1    0    0   0    0\n",
              "4         0   0   1   0   0   0    0  ...    0    1    1    0    0   0    0\n",
              "...      ..  ..  ..  ..  ..  ..  ...  ...  ...  ...  ...  ...  ...  ..  ...\n",
              "1010821   1   0   1   1   0   1    0  ...    1    0    1    1    1   0    0\n",
              "1010822   0   0   1   0   0   1    0  ...    0    0    0    1    0   0    0\n",
              "1010823   0   0   1   0   0   0    0  ...    0    1    1    0    0   0    0\n",
              "1010824   1   0   1   0   0   1    0  ...    0    1    1    1    0   0    0\n",
              "1010825   0   0   1   0   0   1    0  ...    0    0    1    0    0   1    1\n",
              "\n",
              "[1010826 rows x 32 columns]"
            ]
          },
          "metadata": {
            "tags": []
          },
          "execution_count": 22
        }
      ]
    },
    {
      "cell_type": "code",
      "metadata": {
        "colab": {
          "base_uri": "https://localhost:8080/"
        },
        "id": "jZd46PqIUsmW",
        "outputId": "a7ab1810-d89c-43d9-e1b4-9bec24b2ff8a"
      },
      "source": [
        "import numpy as np\n",
        "from sklearn.decomposition import PCA\n",
        "pca = PCA(n_components=12)\n",
        "pca.fit(pos)\n",
        "xx= pca.transform(pos)\n",
        "print(np.sum(pca.explained_variance_ratio_))"
      ],
      "execution_count": null,
      "outputs": [
        {
          "output_type": "stream",
          "text": [
            "0.7309484490973253\n"
          ],
          "name": "stdout"
        }
      ]
    },
    {
      "cell_type": "code",
      "metadata": {
        "id": "RLOE1yrDUvM3"
      },
      "source": [
        "pd.DataFrame(xx).to_csv('pcapos.csv')"
      ],
      "execution_count": null,
      "outputs": []
    },
    {
      "cell_type": "code",
      "metadata": {
        "id": "lZoKwh8yr7Av"
      },
      "source": [
        "%reset -f\n"
      ],
      "execution_count": null,
      "outputs": []
    },
    {
      "cell_type": "markdown",
      "metadata": {
        "id": "4D1nieGUqpaw"
      },
      "source": [
        "Parent_comment Clustering Sentences on basis of Similar words used in Sentences"
      ]
    },
    {
      "cell_type": "code",
      "metadata": {
        "colab": {
          "base_uri": "https://localhost:8080/"
        },
        "id": "iWaBLGA0rADY",
        "outputId": "a390fb48-cfea-4947-a66c-181205223f60"
      },
      "source": [
        "!apt update\n",
        "!apt-get install openjdk-8-jdk-headless -qq > /dev/null\n",
        "!wget -q https://www-us.apache.org/dist/spark/spark-3.1.1/spark-3.1.1-bin-hadoop2.7.tgz \n",
        "!tar xf spark-3.1.1-bin-hadoop2.7.tgz\n",
        "\n",
        "!pip install -q findspark\n",
        "!pip install pyspark\n"
      ],
      "execution_count": null,
      "outputs": [
        {
          "output_type": "stream",
          "text": [
            "\u001b[33m\r0% [Working]\u001b[0m\r            \rIgn:1 https://developer.download.nvidia.com/compute/cuda/repos/ubuntu1804/x86_64  InRelease\n",
            "Get:2 https://cloud.r-project.org/bin/linux/ubuntu bionic-cran40/ InRelease [3,626 B]\n",
            "Ign:3 https://developer.download.nvidia.com/compute/machine-learning/repos/ubuntu1804/x86_64  InRelease\n",
            "Get:4 https://developer.download.nvidia.com/compute/cuda/repos/ubuntu1804/x86_64  Release [697 B]\n",
            "Get:5 http://security.ubuntu.com/ubuntu bionic-security InRelease [88.7 kB]\n",
            "Hit:6 https://developer.download.nvidia.com/compute/machine-learning/repos/ubuntu1804/x86_64  Release\n",
            "Get:7 https://developer.download.nvidia.com/compute/cuda/repos/ubuntu1804/x86_64  Release.gpg [836 B]\n",
            "Get:8 http://ppa.launchpad.net/c2d4u.team/c2d4u4.0+/ubuntu bionic InRelease [15.9 kB]\n",
            "Hit:9 http://archive.ubuntu.com/ubuntu bionic InRelease\n",
            "Get:10 https://cloud.r-project.org/bin/linux/ubuntu bionic-cran40/ Packages [53.9 kB]\n",
            "Get:11 http://archive.ubuntu.com/ubuntu bionic-updates InRelease [88.7 kB]\n",
            "Ign:13 https://developer.download.nvidia.com/compute/cuda/repos/ubuntu1804/x86_64  Packages\n",
            "Get:13 https://developer.download.nvidia.com/compute/cuda/repos/ubuntu1804/x86_64  Packages [763 kB]\n",
            "Hit:14 http://ppa.launchpad.net/cran/libgit2/ubuntu bionic InRelease\n",
            "Get:15 http://archive.ubuntu.com/ubuntu bionic-backports InRelease [74.6 kB]\n",
            "Get:16 http://ppa.launchpad.net/deadsnakes/ppa/ubuntu bionic InRelease [15.9 kB]\n",
            "Get:17 http://security.ubuntu.com/ubuntu bionic-security/multiverse amd64 Packages [24.7 kB]\n",
            "Get:18 http://security.ubuntu.com/ubuntu bionic-security/main amd64 Packages [2,119 kB]\n",
            "Get:19 http://ppa.launchpad.net/graphics-drivers/ppa/ubuntu bionic InRelease [21.3 kB]\n",
            "Get:20 http://security.ubuntu.com/ubuntu bionic-security/restricted amd64 Packages [399 kB]\n",
            "Get:21 http://security.ubuntu.com/ubuntu bionic-security/universe amd64 Packages [1,410 kB]\n",
            "Get:22 http://archive.ubuntu.com/ubuntu bionic-updates/restricted amd64 Packages [429 kB]\n",
            "Get:23 http://ppa.launchpad.net/c2d4u.team/c2d4u4.0+/ubuntu bionic/main Sources [1,759 kB]\n",
            "Get:24 http://archive.ubuntu.com/ubuntu bionic-updates/universe amd64 Packages [2,181 kB]\n",
            "Get:25 http://archive.ubuntu.com/ubuntu bionic-updates/multiverse amd64 Packages [31.6 kB]\n",
            "Get:26 http://archive.ubuntu.com/ubuntu bionic-updates/main amd64 Packages [2,550 kB]\n",
            "Get:27 http://ppa.launchpad.net/c2d4u.team/c2d4u4.0+/ubuntu bionic/main amd64 Packages [900 kB]\n",
            "Get:28 http://ppa.launchpad.net/deadsnakes/ppa/ubuntu bionic/main amd64 Packages [40.8 kB]\n",
            "Get:29 http://ppa.launchpad.net/graphics-drivers/ppa/ubuntu bionic/main amd64 Packages [47.2 kB]\n",
            "Fetched 13.0 MB in 5s (2,528 kB/s)\n",
            "Reading package lists... Done\n",
            "Building dependency tree       \n",
            "Reading state information... Done\n",
            "69 packages can be upgraded. Run 'apt list --upgradable' to see them.\n",
            "Collecting pyspark\n",
            "\u001b[?25l  Downloading https://files.pythonhosted.org/packages/45/b0/9d6860891ab14a39d4bddf80ba26ce51c2f9dc4805e5c6978ac0472c120a/pyspark-3.1.1.tar.gz (212.3MB)\n",
            "\u001b[K     |████████████████████████████████| 212.3MB 67kB/s \n",
            "\u001b[?25hCollecting py4j==0.10.9\n",
            "\u001b[?25l  Downloading https://files.pythonhosted.org/packages/9e/b6/6a4fb90cd235dc8e265a6a2067f2a2c99f0d91787f06aca4bcf7c23f3f80/py4j-0.10.9-py2.py3-none-any.whl (198kB)\n",
            "\u001b[K     |████████████████████████████████| 204kB 17.3MB/s \n",
            "\u001b[?25hBuilding wheels for collected packages: pyspark\n",
            "  Building wheel for pyspark (setup.py) ... \u001b[?25l\u001b[?25hdone\n",
            "  Created wheel for pyspark: filename=pyspark-3.1.1-py2.py3-none-any.whl size=212767604 sha256=481d5a922865ae34998e1c1cf4501bf7661db8401bf0c8cbc5140e3244068c57\n",
            "  Stored in directory: /root/.cache/pip/wheels/0b/90/c0/01de724414ef122bd05f056541fb6a0ecf47c7ca655f8b3c0f\n",
            "Successfully built pyspark\n",
            "Installing collected packages: py4j, pyspark\n",
            "Successfully installed py4j-0.10.9 pyspark-3.1.1\n"
          ],
          "name": "stdout"
        }
      ]
    },
    {
      "cell_type": "code",
      "metadata": {
        "id": "7iCCm-y8rFUW"
      },
      "source": [
        "import os\n",
        "os.environ[\"JAVA_HOME\"] = \"/usr/lib/jvm/java-8-openjdk-amd64\"\n",
        "os.environ[\"SPARK_HOME\"] = \"/content/spark-3.1.1-bin-hadoop2.7\""
      ],
      "execution_count": null,
      "outputs": []
    },
    {
      "cell_type": "code",
      "metadata": {
        "id": "yjQ6-rGWrHA3"
      },
      "source": [
        "import findspark\n",
        "findspark.init()\n"
      ],
      "execution_count": null,
      "outputs": []
    },
    {
      "cell_type": "code",
      "metadata": {
        "colab": {
          "base_uri": "https://localhost:8080/",
          "height": 35
        },
        "id": "OX4EgZB2rJfW",
        "outputId": "5b76fc9f-07fe-4d15-c4b4-cac6565be9ac"
      },
      "source": [
        "findspark.find()"
      ],
      "execution_count": null,
      "outputs": [
        {
          "output_type": "execute_result",
          "data": {
            "application/vnd.google.colaboratory.intrinsic+json": {
              "type": "string"
            },
            "text/plain": [
              "'/content/spark-3.1.1-bin-hadoop2.7'"
            ]
          },
          "metadata": {
            "tags": []
          },
          "execution_count": 29
        }
      ]
    },
    {
      "cell_type": "code",
      "metadata": {
        "id": "_U2jL1nFrLRv"
      },
      "source": [
        "from pyspark.sql import SparkSession\n",
        "\n",
        "spark = SparkSession.builder\\\n",
        "      .master(\"local\")\\\n",
        "        .appName(\"ngrams\")\\\n",
        "        .config('spark.ui.port', '4050')\\\n",
        "        .config(\"spark.driver.memory\", \"2g\") \\\n",
        "        .config(\"spark.driver.maxResultSize\", \"1g\") \\\n",
        "        .config(\"spark.sql.broadcastTimeout\", \"10h\") \\\n",
        "        .getOrCreate()"
      ],
      "execution_count": null,
      "outputs": []
    },
    {
      "cell_type": "code",
      "metadata": {
        "id": "zJKEqgcqrNTx"
      },
      "source": [
        "df = spark.read.csv('data.csv', header=True)"
      ],
      "execution_count": null,
      "outputs": []
    },
    {
      "cell_type": "code",
      "metadata": {
        "id": "Ww-CEMmasdl2"
      },
      "source": [
        "df=df.select('parent_comment')"
      ],
      "execution_count": null,
      "outputs": []
    },
    {
      "cell_type": "code",
      "metadata": {
        "colab": {
          "base_uri": "https://localhost:8080/"
        },
        "id": "dUkvoHaDrVWP",
        "outputId": "b4c2e65d-6e3d-4390-ca4a-7330c1f8afbf"
      },
      "source": [
        "df.show()"
      ],
      "execution_count": null,
      "outputs": [
        {
          "output_type": "stream",
          "text": [
            "+--------------------+\n",
            "|      parent_comment|\n",
            "+--------------------+\n",
            "|Yeah, I get that ...|\n",
            "|The blazers and M...|\n",
            "|They're favored t...|\n",
            "|deadass don't kil...|\n",
            "|Yep can confirm I...|\n",
            "|do you find arian...|\n",
            "|What's your weird...|\n",
            "|Probably Sephirot...|\n",
            "|What to upgrade? ...|\n",
            "|Probably count Ka...|\n",
            "|I bet if that mon...|\n",
            "|James Shields Wil...|\n",
            "|There's no time t...|\n",
            "|Team Specific Thr...|\n",
            "|Ill give you a hi...|\n",
            "|Star Wars, easy. ...|\n",
            "|    You're adorable.|\n",
            "|He actually acts ...|\n",
            "|Clinton struggles...|\n",
            "|Is that the Older...|\n",
            "+--------------------+\n",
            "only showing top 20 rows\n",
            "\n"
          ],
          "name": "stdout"
        }
      ]
    },
    {
      "cell_type": "code",
      "metadata": {
        "id": "WcV0HYCNA4Ss"
      },
      "source": [
        "from pyspark.sql import SparkSession\n",
        "from pyspark.sql.functions import udf, col, lower, regexp_replace\n",
        "from pyspark.ml.feature import Tokenizer, StopWordsRemover,NGram\n",
        "from nltk.stem.snowball import SnowballStemmer\n",
        "from pyspark.sql.functions import array\n",
        "from pyspark.sql.types import *\n",
        "from pyspark.sql.functions import *\n"
      ],
      "execution_count": null,
      "outputs": []
    },
    {
      "cell_type": "code",
      "metadata": {
        "colab": {
          "base_uri": "https://localhost:8080/"
        },
        "id": "-J6UMhAr5CAB",
        "outputId": "58063f26-154f-4afd-f292-d3b1da517344"
      },
      "source": [
        " \n",
        "# Ngrams\n",
        "df_clean = df.select('parent_Comment', (lower(regexp_replace('parent_comment', \"[^a-zA-Z\\\\s]\", \"\")).alias('text')))\n",
        "tokenizer = Tokenizer(inputCol='text', outputCol='words_token')\n",
        "df1 = tokenizer.transform(df_clean).select('text')\n",
        "df_new =df1.withColumn(\"text\", split(col(\"text\"), \" \"))\n",
        "remover = StopWordsRemover(inputCol='text', outputCol='words_clean')\n",
        "df_words_no_stopw = remover.transform(df_new).select('words_clean')\n",
        "ngram = NGram(n=2, inputCol=\"words_clean\", outputCol=\"ngrams\")\n",
        "ngramDataFrame = ngram.transform(df_words_no_stopw)\n",
        "ngramDataFrame.select(\"ngrams\").show(truncate=False)\n",
        "\n"
      ],
      "execution_count": null,
      "outputs": [
        {
          "output_type": "stream",
          "text": [
            "+------------------------------------------------------------------------------------------------------------------------------------------------------------------------------------------------------------------------------------------------------------------------------------------------------------------------------------------------------------------------------------------------------------------------------------------------------------------------------------------------------------------------------------------------------------------------------------------------------------------------------------------------------------------------------------------------------------------------------------------------------------------------------------------------------------------------------------------------------------------------------------------------------------------------------------------------------------------------------------------------------------------------------------------------------------------------------------------+\n",
            "|ngrams                                                                                                                                                                                                                                                                                                                                                                                                                                                                                                                                                                                                                                                                                                                                                                                                                                                                                                                                                                                                                                                                                    |\n",
            "+------------------------------------------------------------------------------------------------------------------------------------------------------------------------------------------------------------------------------------------------------------------------------------------------------------------------------------------------------------------------------------------------------------------------------------------------------------------------------------------------------------------------------------------------------------------------------------------------------------------------------------------------------------------------------------------------------------------------------------------------------------------------------------------------------------------------------------------------------------------------------------------------------------------------------------------------------------------------------------------------------------------------------------------------------------------------------------------+\n",
            "|[yeah get, get argument, argument point, point id, id prefer, prefer lived, lived nc, nc well]                                                                                                                                                                                                                                                                                                                                                                                                                                                                                                                                                                                                                                                                                                                                                                                                                                                                                                                                                                                            |\n",
            "|[blazers mavericks, mavericks wests, wests ,  ,  seed, seed even, even carry, carry good, good enough, enough record, record make, make playoffs, playoffs east, east last, last year]                                                                                                                                                                                                                                                                                                                                                                                                                                                                                                                                                                                                                                                                                                                                                                                                                                                                                                    |\n",
            "|[theyre favored, favored win]                                                                                                                                                                                                                                                                                                                                                                                                                                                                                                                                                                                                                                                                                                                                                                                                                                                                                                                                                                                                                                                             |\n",
            "|[deadass dont, dont kill, kill buzz]                                                                                                                                                                                                                                                                                                                                                                                                                                                                                                                                                                                                                                                                                                                                                                                                                                                                                                                                                                                                                                                      |\n",
            "|[yep confirm, confirm saw, saw tool, tool use, use made, made boy, boy easportsmut]                                                                                                                                                                                                                                                                                                                                                                                                                                                                                                                                                                                                                                                                                                                                                                                                                                                                                                                                                                                                       |\n",
            "|[find ariana, ariana grande, grande sexy, sexy ]                                                                                                                                                                                                                                                                                                                                                                                                                                                                                                                                                                                                                                                                                                                                                                                                                                                                                                                                                                                                                                          |\n",
            "|[whats weird, weird unsettling, unsettling trick, trick treat, treat story]                                                                                                                                                                                                                                                                                                                                                                                                                                                                                                                                                                                                                                                                                                                                                                                                                                                                                                                                                                                                               |\n",
            "|[probably sephiroth, sephiroth refuse, refuse taint, taint greatness, greatness weak, weak builds, builds equip, equip best, best tms]                                                                                                                                                                                                                                                                                                                                                                                                                                                                                                                                                                                                                                                                                                                                                                                                                                                                                                                                                    |\n",
            "|[upgrade ,  spend, spend mainly, mainly birthday, birthday st, st im, im really, really sure, sure upgrade, upgrade dont, dont spend, spend ,  spend, spend little, little want, want specs, specs cpu, cpu ik, ik cooler, cooler cm, cm ,  evo, evo ram, ram gb, gb corsair, corsair vengence, vengence lpx, lpx mhz, mhz gpu, gpu evga, evga gtx, gtx ,  sc, sc case, case corsair, corsair spec, spec alpha, alpha psu, psu evga, evga p, p w, w storage, storage one, one ,  gb, gb corsair, corsair force, force le, le monitor, monitor benq, benq xlz, xlz keyboard, keyboard razer, razer blackwidow, blackwidow tournament, tournament edition, edition im, im thinking, thinking right, right get, get tb, tb wd, wd blue, blue buy, buy another, another gb, gb ram, ram replace, replace razer, razer blackwidow, blackwidow keyboard, keyboard actual, actual cherry, cherry mx, mx switches, switches replace, replace case, case doesnt, doesnt really, really offer, offer features, features good, good cable, cable management, management save, save volta, volta card]|\n",
            "|[probably count, count kanye, kanye since, since rest, rest tour, tour canceled, canceled doesnt, doesnt seem, seem cards, cards hes, hes also, also unpredictable, unpredictable change, change thankfully, thankfully saw, saw started, started canceling, canceling shows, shows going, going long, long rants, rants showing, showing late, late id, id love, love see, see especially, especially lolla, lolla thoughts]                                                                                                                                                                                                                                                                                                                                                                                                                                                                                                                                                                                                                                                             |\n",
            "|[bet money, money poured, poured college, college debt, debt health, health debt, debt relief, relief ,  americans, americans instead]                                                                                                                                                                                                                                                                                                                                                                                                                                                                                                                                                                                                                                                                                                                                                                                                                                                                                                                                                    |\n",
            "|[james shields, shields exercise, exercise optout, optout clause]                                                                                                                                                                                                                                                                                                                                                                                                                                                                                                                                                                                                                                                                                                                                                                                                                                                                                                                                                                                                                         |\n",
            "|[theres time, time worry, worry leaks, leaks gays, gays already, already get]                                                                                                                                                                                                                                                                                                                                                                                                                                                                                                                                                                                                                                                                                                                                                                                                                                                                                                                                                                                                             |\n",
            "|[team specific, specific threads, threads matter, matter many, many articles, articles read, read many, many hours, hours red, red zone, zone watch, watch nothing, nothing quite, quite makes, makes watching, watching every, every play, play game, game members, members communitythe, communitythe mods, mods open, open creating, creating sticky, sticky post, post team, team individual, individual thread, thread every, every team, team nfl, nfl team, team specific, specific conversation, conversation take, take place, place people, people watch, watch individual, individual games, games comment, comment may, may even, even able, able get, get guys, guys team, team specific, specific subreddits, subreddits stop, stop give, give us, us new, new insight]                                                                                                                                                                                                                                                                                                     |\n",
            "|[ill give, give hint, hint commented, commented thread]                                                                                                                                                                                                                                                                                                                                                                                                                                                                                                                                                                                                                                                                                                                                                                                                                                                                                                                                                                                                                                   |\n",
            "|[star wars, wars easy, easy im, im bothered, bothered indiana, indiana jones, jones tbh]                                                                                                                                                                                                                                                                                                                                                                                                                                                                                                                                                                                                                                                                                                                                                                                                                                                                                                                                                                                                  |\n",
            "|[youre adorable]                                                                                                                                                                                                                                                                                                                                                                                                                                                                                                                                                                                                                                                                                                                                                                                                                                                                                                                                                                                                                                                                          |\n",
            "|[actually acts, acts like, like moody, moody emo, emo girl, girl twitter, twitter lashes, lashes incredibly, incredibly petty, petty things, things takes, takes social, social media, media hes, hes ,  year, year old, old man, man grow, grow fuck, fuck think, think dignity, dignity man]                                                                                                                                                                                                                                                                                                                                                                                                                                                                                                                                                                                                                                                                                                                                                                                            |\n",
            "|[clinton struggles, struggles gain, gain traction, traction florida, florida despite, despite spending, spending ,  clinton, clinton shocked, shocked money, money cant, cant buy, buy everything]                                                                                                                                                                                                                                                                                                                                                                                                                                                                                                                                                                                                                                                                                                                                                                                                                                                                                        |\n",
            "|[older clark, clark older, older lois]                                                                                                                                                                                                                                                                                                                                                                                                                                                                                                                                                                                                                                                                                                                                                                                                                                                                                                                                                                                                                                                    |\n",
            "+------------------------------------------------------------------------------------------------------------------------------------------------------------------------------------------------------------------------------------------------------------------------------------------------------------------------------------------------------------------------------------------------------------------------------------------------------------------------------------------------------------------------------------------------------------------------------------------------------------------------------------------------------------------------------------------------------------------------------------------------------------------------------------------------------------------------------------------------------------------------------------------------------------------------------------------------------------------------------------------------------------------------------------------------------------------------------------------+\n",
            "only showing top 20 rows\n",
            "\n"
          ],
          "name": "stdout"
        }
      ]
    },
    {
      "cell_type": "code",
      "metadata": {
        "id": "ogP14xEJG3gL"
      },
      "source": [
        "df12=ngramDataFrame.select(\"ngrams\")\n",
        "df11=df12.toPandas()\n",
        "\n"
      ],
      "execution_count": null,
      "outputs": []
    },
    {
      "cell_type": "code",
      "metadata": {
        "id": "WkQANKYoLl7r"
      },
      "source": [
        "df11.to_csv('df11.csv')\n"
      ],
      "execution_count": null,
      "outputs": []
    },
    {
      "cell_type": "code",
      "metadata": {
        "id": "hLgqdNqsHSZ_"
      },
      "source": [
        "%reset -f\n"
      ],
      "execution_count": null,
      "outputs": []
    },
    {
      "cell_type": "code",
      "metadata": {
        "id": "zilGPaVCyALN"
      },
      "source": [
        "import pandas as pd\n",
        "data=pd.read_csv('data.csv')\n",
        "pos=pd.read_csv('pcapos.csv')\n",
        "df11=pd.read_csv('df11.csv')"
      ],
      "execution_count": null,
      "outputs": []
    },
    {
      "cell_type": "code",
      "metadata": {
        "id": "L3tIbKQfR3KF"
      },
      "source": [
        "import tensorflow as tf\n",
        "from tensorflow.keras.preprocessing.text import Tokenizer\n",
        "from tensorflow.keras.preprocessing.sequence import pad_sequences\n",
        "from sklearn.preprocessing import StandardScaler\n",
        "from sklearn.decomposition import PCA\n"
      ],
      "execution_count": null,
      "outputs": []
    },
    {
      "cell_type": "code",
      "metadata": {
        "id": "tn0ykTkQRrFS"
      },
      "source": [
        "tokenizer = Tokenizer(num_words=10000, lower= 1, oov_token=\"<OOV>\")\n",
        "tokenizer.fit_on_texts(df11.ngrams)\n",
        "sequences = tokenizer.texts_to_sequences(df11.ngrams)\n",
        "x=pad_sequences(sequences, padding='post',maxlen=len(max(sequences)))\n",
        "x = StandardScaler().fit_transform(x)\n"
      ],
      "execution_count": null,
      "outputs": []
    },
    {
      "cell_type": "code",
      "metadata": {
        "colab": {
          "base_uri": "https://localhost:8080/"
        },
        "id": "iiWyl1jCSaNp",
        "outputId": "64b28620-a1ee-4c57-966b-77ff1daf46e3"
      },
      "source": [
        "import numpy as np\n",
        "pca = PCA(n_components=3)\n",
        "pca.fit(x)\n",
        "xx= pca.transform(x)\n",
        "print(np.sum(pca.explained_variance_ratio_))"
      ],
      "execution_count": null,
      "outputs": [
        {
          "output_type": "stream",
          "text": [
            "0.7062106670620326\n"
          ],
          "name": "stdout"
        }
      ]
    },
    {
      "cell_type": "code",
      "metadata": {
        "id": "DdcQIENncCh1"
      },
      "source": [
        "from sklearn.cluster import KMeans\n",
        "sse = []\n",
        "k_rng = range(1,10)\n",
        "for k in k_rng:\n",
        "    km = KMeans(n_clusters=k)\n",
        "    km.fit(xx)\n",
        "    sse.append(km.inertia_)"
      ],
      "execution_count": null,
      "outputs": []
    },
    {
      "cell_type": "code",
      "metadata": {
        "colab": {
          "base_uri": "https://localhost:8080/",
          "height": 307
        },
        "id": "M9LZYXq8cfef",
        "outputId": "d00bcd9c-59b5-42f6-9e87-cc00a0489037"
      },
      "source": [
        "\n",
        "import matplotlib.pyplot as plt\n",
        "plt.xlabel('K')\n",
        "plt.ylabel('Sum of squared error')\n",
        "plt.plot(k_rng,sse)"
      ],
      "execution_count": null,
      "outputs": [
        {
          "output_type": "execute_result",
          "data": {
            "text/plain": [
              "[<matplotlib.lines.Line2D at 0x7fa28aa8fe90>]"
            ]
          },
          "metadata": {
            "tags": []
          },
          "execution_count": 44
        },
        {
          "output_type": "display_data",
          "data": {
            "image/png": "[encoded data removed]",
            "text/plain": [
              "<Figure size 432x288 with 1 Axes>"
            ]
          },
          "metadata": {
            "tags": []
          }
        }
      ]
    },
    {
      "cell_type": "code",
      "metadata": {
        "id": "IgA04eJZclJK"
      },
      "source": [
        "kmeans = KMeans(n_clusters=4)\n",
        "data['kmeans']= ((kmeans.fit_predict(xx)))"
      ],
      "execution_count": null,
      "outputs": []
    },
    {
      "cell_type": "code",
      "metadata": {
        "id": "_8jk6kUpCtEQ"
      },
      "source": [
        "data.subreddit=pd.Categorical(data.subreddit)"
      ],
      "execution_count": null,
      "outputs": []
    },
    {
      "cell_type": "code",
      "metadata": {
        "id": "rr6r5af0So94"
      },
      "source": [
        "data['lenght']=data['postags'].apply(lambda x:len(x))\n",
        " "
      ],
      "execution_count": null,
      "outputs": []
    },
    {
      "cell_type": "markdown",
      "metadata": {
        "id": "lOSCTasgsJhr"
      },
      "source": [
        "Truncated SVM and Logistic Regression "
      ]
    },
    {
      "cell_type": "code",
      "metadata": {
        "id": "NaNSsRXqSyjZ"
      },
      "source": [
        "from sklearn.ensemble import RandomForestRegressor\n",
        "from sklearn.tree import DecisionTreeClassifier\n",
        "from sklearn import metrics\n",
        "from sklearn.model_selection import train_test_split\n",
        "from sklearn.preprocessing import StandardScaler\n",
        "from sklearn.metrics import accuracy_score\n",
        "X=data[['Subjectivity','Polarity','lenght','kmeans']].join(pd.DataFrame(pos), how='outer')\n",
        "X = StandardScaler().fit_transform(X)\n",
        "y=data['label']\n"
      ],
      "execution_count": null,
      "outputs": []
    },
    {
      "cell_type": "code",
      "metadata": {
        "id": "GJanAn7RS7yF"
      },
      "source": [
        "from sklearn.ensemble import RandomForestClassifier\n",
        "import sklearn.linear_model as lm\n",
        "from sklearn.decomposition import TruncatedSVD\n",
        "from sklearn.preprocessing import StandardScaler\n",
        "from sklearn import pipeline,metrics\n",
        "from sklearn.model_selection import GridSearchCV\n",
        "from sklearn.metrics import f1_score,precision_score\n",
        "import random"
      ],
      "execution_count": null,
      "outputs": []
    },
    {
      "cell_type": "code",
      "metadata": {
        "colab": {
          "base_uri": "https://localhost:8080/"
        },
        "id": "YJBEX1VES9qp",
        "outputId": "834b2a72-6ec3-4f3f-d831-8f523e4a617f"
      },
      "source": [
        "Kfold=[0.10,0.40,0.50,0.80]\n",
        "score=[]\n",
        "for i in Kfold:\n",
        "  X_train, X_test, y_train, y_test = train_test_split(X, y, test_size=i, random_state=3)\n",
        "\n",
        "  svd = TruncatedSVD(algorithm=\"randomized\", random_state=None, tol=0.0)\n",
        "  scl = StandardScaler()\n",
        "  lr = lm.LogisticRegression(class_weight=\"balanced\", tol = 0.0001)\n",
        "  clf = pipeline.Pipeline([('svd', svd),\n",
        "    \t\t\t\t\t\t ('scl', scl),\n",
        "                    \t     ('lr', lr)])\n",
        "\n",
        "  param_grid = {'svd__n_components' : [5,10,16],\n",
        "                 'svd__n_iter':[3,4,5],\n",
        "                 'lr__C': [10,14,15],\n",
        "                  'lr__penalty':[\"l1\",\"l2\"]}\n",
        "\n",
        "  f_scorer = metrics.make_scorer(f1_score, greater_is_better = True)\n",
        "\n",
        "  model = GridSearchCV(estimator = clf, param_grid=param_grid, scoring=f_scorer,\n",
        "                                     verbose=10, n_jobs=-1, iid=True, refit=True, cv=10)\n",
        "\n",
        "\n",
        "\n",
        "  model.fit(X_train, y_train)\n",
        "  print('test size',i)\n",
        "  print(\"Best score: %0.3f\" % model.best_score_)\n",
        "\n",
        "  print(\"Best parameters set:\")\n",
        "  best_parameters = model.best_estimator_.get_params()\n",
        "  for param_name in sorted(param_grid.keys()):\n",
        "  \tprint(\"\\t%s: %r\" % (param_name, best_parameters[param_name]))\n",
        "  zzz=[model.best_score_,i,param_name,best_parameters[param_name]]\n",
        "  score.append(zzz)\n",
        "\n",
        "\n",
        "\n",
        "\n"
      ],
      "execution_count": null,
      "outputs": [
        {
          "output_type": "stream",
          "text": [
            "Fitting 10 folds for each of 54 candidates, totalling 540 fits\n"
          ],
          "name": "stdout"
        },
        {
          "output_type": "stream",
          "text": [
            "[Parallel(n_jobs=-1)]: Using backend LokyBackend with 2 concurrent workers.\n",
            "[Parallel(n_jobs=-1)]: Done   1 tasks      | elapsed:    5.5s\n",
            "[Parallel(n_jobs=-1)]: Done   4 tasks      | elapsed:    9.3s\n",
            "[Parallel(n_jobs=-1)]: Done   9 tasks      | elapsed:   20.4s\n",
            "[Parallel(n_jobs=-1)]: Done  14 tasks      | elapsed:   29.0s\n",
            "[Parallel(n_jobs=-1)]: Done  21 tasks      | elapsed:   46.6s\n",
            "[Parallel(n_jobs=-1)]: Done  28 tasks      | elapsed:  1.0min\n",
            "[Parallel(n_jobs=-1)]: Done  37 tasks      | elapsed:  1.4min\n",
            "[Parallel(n_jobs=-1)]: Done  46 tasks      | elapsed:  1.7min\n",
            "[Parallel(n_jobs=-1)]: Done  57 tasks      | elapsed:  2.3min\n",
            "[Parallel(n_jobs=-1)]: Done  68 tasks      | elapsed:  2.7min\n",
            "[Parallel(n_jobs=-1)]: Done  81 tasks      | elapsed:  3.4min\n",
            "[Parallel(n_jobs=-1)]: Done  94 tasks      | elapsed:  4.0min\n",
            "[Parallel(n_jobs=-1)]: Done 109 tasks      | elapsed:  4.7min\n",
            "[Parallel(n_jobs=-1)]: Done 124 tasks      | elapsed:  5.3min\n",
            "[Parallel(n_jobs=-1)]: Done 141 tasks      | elapsed:  6.3min\n",
            "[Parallel(n_jobs=-1)]: Done 158 tasks      | elapsed:  7.1min\n",
            "[Parallel(n_jobs=-1)]: Done 177 tasks      | elapsed:  8.3min\n",
            "[Parallel(n_jobs=-1)]: Done 196 tasks      | elapsed:  8.9min\n",
            "[Parallel(n_jobs=-1)]: Done 217 tasks      | elapsed:  9.8min\n",
            "[Parallel(n_jobs=-1)]: Done 238 tasks      | elapsed: 10.7min\n",
            "[Parallel(n_jobs=-1)]: Done 261 tasks      | elapsed: 11.8min\n",
            "[Parallel(n_jobs=-1)]: Done 284 tasks      | elapsed: 12.8min\n",
            "[Parallel(n_jobs=-1)]: Done 309 tasks      | elapsed: 14.0min\n",
            "[Parallel(n_jobs=-1)]: Done 334 tasks      | elapsed: 15.3min\n",
            "[Parallel(n_jobs=-1)]: Done 361 tasks      | elapsed: 16.9min\n",
            "[Parallel(n_jobs=-1)]: Done 388 tasks      | elapsed: 17.8min\n",
            "[Parallel(n_jobs=-1)]: Done 417 tasks      | elapsed: 19.1min\n",
            "[Parallel(n_jobs=-1)]: Done 446 tasks      | elapsed: 20.4min\n",
            "[Parallel(n_jobs=-1)]: Done 477 tasks      | elapsed: 21.8min\n",
            "[Parallel(n_jobs=-1)]: Done 508 tasks      | elapsed: 23.4min\n",
            "[Parallel(n_jobs=-1)]: Done 540 out of 540 | elapsed: 25.2min finished\n"
          ],
          "name": "stderr"
        },
        {
          "output_type": "stream",
          "text": [
            "test size 0.1\n",
            "Best score: 0.541\n",
            "Best parameters set:\n",
            "\tlr__C: 10\n",
            "\tlr__penalty: 'l2'\n",
            "\tsvd__n_components: 16\n",
            "\tsvd__n_iter: 3\n",
            "Fitting 10 folds for each of 54 candidates, totalling 540 fits\n"
          ],
          "name": "stdout"
        },
        {
          "output_type": "stream",
          "text": [
            "[Parallel(n_jobs=-1)]: Using backend LokyBackend with 2 concurrent workers.\n",
            "[Parallel(n_jobs=-1)]: Done   1 tasks      | elapsed:    2.5s\n",
            "[Parallel(n_jobs=-1)]: Done   4 tasks      | elapsed:    4.9s\n",
            "[Parallel(n_jobs=-1)]: Done   9 tasks      | elapsed:   12.1s\n",
            "[Parallel(n_jobs=-1)]: Done  14 tasks      | elapsed:   17.7s\n",
            "[Parallel(n_jobs=-1)]: Done  21 tasks      | elapsed:   29.2s\n",
            "[Parallel(n_jobs=-1)]: Done  28 tasks      | elapsed:   38.7s\n",
            "[Parallel(n_jobs=-1)]: Done  37 tasks      | elapsed:   54.0s\n",
            "[Parallel(n_jobs=-1)]: Done  46 tasks      | elapsed:  1.1min\n",
            "[Parallel(n_jobs=-1)]: Done  57 tasks      | elapsed:  1.5min\n",
            "[Parallel(n_jobs=-1)]: Done  68 tasks      | elapsed:  1.8min\n",
            "[Parallel(n_jobs=-1)]: Done  81 tasks      | elapsed:  2.2min\n",
            "[Parallel(n_jobs=-1)]: Done  94 tasks      | elapsed:  2.6min\n",
            "[Parallel(n_jobs=-1)]: Done 109 tasks      | elapsed:  3.0min\n",
            "[Parallel(n_jobs=-1)]: Done 124 tasks      | elapsed:  3.4min\n",
            "[Parallel(n_jobs=-1)]: Done 141 tasks      | elapsed:  4.0min\n",
            "[Parallel(n_jobs=-1)]: Done 158 tasks      | elapsed:  4.5min\n",
            "[Parallel(n_jobs=-1)]: Done 177 tasks      | elapsed:  5.2min\n",
            "[Parallel(n_jobs=-1)]: Done 196 tasks      | elapsed:  5.6min\n",
            "[Parallel(n_jobs=-1)]: Done 217 tasks      | elapsed:  6.2min\n",
            "[Parallel(n_jobs=-1)]: Done 238 tasks      | elapsed:  6.8min\n",
            "[Parallel(n_jobs=-1)]: Done 261 tasks      | elapsed:  7.5min\n",
            "[Parallel(n_jobs=-1)]: Done 284 tasks      | elapsed:  8.1min\n",
            "[Parallel(n_jobs=-1)]: Done 309 tasks      | elapsed:  8.9min\n",
            "[Parallel(n_jobs=-1)]: Done 334 tasks      | elapsed:  9.8min\n",
            "[Parallel(n_jobs=-1)]: Done 361 tasks      | elapsed: 10.8min\n",
            "[Parallel(n_jobs=-1)]: Done 388 tasks      | elapsed: 11.4min\n",
            "[Parallel(n_jobs=-1)]: Done 417 tasks      | elapsed: 12.2min\n",
            "[Parallel(n_jobs=-1)]: Done 446 tasks      | elapsed: 13.1min\n",
            "[Parallel(n_jobs=-1)]: Done 477 tasks      | elapsed: 13.9min\n",
            "[Parallel(n_jobs=-1)]: Done 508 tasks      | elapsed: 14.9min\n",
            "[Parallel(n_jobs=-1)]: Done 540 out of 540 | elapsed: 16.0min finished\n"
          ],
          "name": "stderr"
        },
        {
          "output_type": "stream",
          "text": [
            "test size 0.4\n",
            "Best score: 0.540\n",
            "Best parameters set:\n",
            "\tlr__C: 10\n",
            "\tlr__penalty: 'l2'\n",
            "\tsvd__n_components: 16\n",
            "\tsvd__n_iter: 3\n",
            "Fitting 10 folds for each of 54 candidates, totalling 540 fits\n"
          ],
          "name": "stdout"
        },
        {
          "output_type": "stream",
          "text": [
            "[Parallel(n_jobs=-1)]: Using backend LokyBackend with 2 concurrent workers.\n",
            "[Parallel(n_jobs=-1)]: Done   1 tasks      | elapsed:    2.0s\n",
            "[Parallel(n_jobs=-1)]: Done   4 tasks      | elapsed:    4.0s\n",
            "[Parallel(n_jobs=-1)]: Done   9 tasks      | elapsed:    9.9s\n",
            "[Parallel(n_jobs=-1)]: Done  14 tasks      | elapsed:   14.3s\n",
            "[Parallel(n_jobs=-1)]: Done  21 tasks      | elapsed:   23.3s\n",
            "[Parallel(n_jobs=-1)]: Done  28 tasks      | elapsed:   30.7s\n",
            "[Parallel(n_jobs=-1)]: Done  37 tasks      | elapsed:   42.8s\n",
            "[Parallel(n_jobs=-1)]: Done  46 tasks      | elapsed:   53.4s\n",
            "[Parallel(n_jobs=-1)]: Done  57 tasks      | elapsed:  1.2min\n",
            "[Parallel(n_jobs=-1)]: Done  68 tasks      | elapsed:  1.4min\n",
            "[Parallel(n_jobs=-1)]: Done  81 tasks      | elapsed:  1.7min\n",
            "[Parallel(n_jobs=-1)]: Done  94 tasks      | elapsed:  2.0min\n",
            "[Parallel(n_jobs=-1)]: Done 109 tasks      | elapsed:  2.3min\n",
            "[Parallel(n_jobs=-1)]: Done 124 tasks      | elapsed:  2.7min\n",
            "[Parallel(n_jobs=-1)]: Done 141 tasks      | elapsed:  3.2min\n",
            "[Parallel(n_jobs=-1)]: Done 158 tasks      | elapsed:  3.7min\n",
            "[Parallel(n_jobs=-1)]: Done 177 tasks      | elapsed:  4.2min\n",
            "[Parallel(n_jobs=-1)]: Done 196 tasks      | elapsed:  4.6min\n",
            "[Parallel(n_jobs=-1)]: Done 217 tasks      | elapsed:  5.0min\n",
            "[Parallel(n_jobs=-1)]: Done 238 tasks      | elapsed:  5.5min\n",
            "[Parallel(n_jobs=-1)]: Done 261 tasks      | elapsed:  6.0min\n",
            "[Parallel(n_jobs=-1)]: Done 284 tasks      | elapsed:  6.6min\n",
            "[Parallel(n_jobs=-1)]: Done 309 tasks      | elapsed:  7.2min\n",
            "[Parallel(n_jobs=-1)]: Done 334 tasks      | elapsed:  7.9min\n",
            "[Parallel(n_jobs=-1)]: Done 361 tasks      | elapsed:  8.6min\n",
            "[Parallel(n_jobs=-1)]: Done 388 tasks      | elapsed:  9.1min\n",
            "[Parallel(n_jobs=-1)]: Done 417 tasks      | elapsed:  9.8min\n",
            "[Parallel(n_jobs=-1)]: Done 446 tasks      | elapsed: 10.5min\n",
            "[Parallel(n_jobs=-1)]: Done 477 tasks      | elapsed: 11.2min\n",
            "[Parallel(n_jobs=-1)]: Done 508 tasks      | elapsed: 12.0min\n",
            "[Parallel(n_jobs=-1)]: Done 540 out of 540 | elapsed: 12.9min finished\n"
          ],
          "name": "stderr"
        },
        {
          "output_type": "stream",
          "text": [
            "test size 0.5\n",
            "Best score: 0.541\n",
            "Best parameters set:\n",
            "\tlr__C: 10\n",
            "\tlr__penalty: 'l2'\n",
            "\tsvd__n_components: 16\n",
            "\tsvd__n_iter: 3\n",
            "Fitting 10 folds for each of 54 candidates, totalling 540 fits\n"
          ],
          "name": "stdout"
        },
        {
          "output_type": "stream",
          "text": [
            "[Parallel(n_jobs=-1)]: Using backend LokyBackend with 2 concurrent workers.\n",
            "[Parallel(n_jobs=-1)]: Done   1 tasks      | elapsed:    0.7s\n",
            "[Parallel(n_jobs=-1)]: Done   4 tasks      | elapsed:    1.4s\n",
            "[Parallel(n_jobs=-1)]: Done   9 tasks      | elapsed:    3.1s\n",
            "[Parallel(n_jobs=-1)]: Done  14 tasks      | elapsed:    5.1s\n",
            "[Parallel(n_jobs=-1)]: Done  21 tasks      | elapsed:    7.7s\n",
            "[Parallel(n_jobs=-1)]: Done  28 tasks      | elapsed:   10.7s\n",
            "[Parallel(n_jobs=-1)]: Done  37 tasks      | elapsed:   14.6s\n",
            "[Parallel(n_jobs=-1)]: Done  46 tasks      | elapsed:   18.5s\n",
            "[Parallel(n_jobs=-1)]: Done  57 tasks      | elapsed:   23.7s\n",
            "[Parallel(n_jobs=-1)]: Done  68 tasks      | elapsed:   29.1s\n",
            "[Parallel(n_jobs=-1)]: Done  81 tasks      | elapsed:   35.8s\n",
            "[Parallel(n_jobs=-1)]: Done  94 tasks      | elapsed:   42.4s\n",
            "[Parallel(n_jobs=-1)]: Done 109 tasks      | elapsed:   49.6s\n",
            "[Parallel(n_jobs=-1)]: Done 124 tasks      | elapsed:   57.5s\n",
            "[Parallel(n_jobs=-1)]: Done 141 tasks      | elapsed:  1.1min\n",
            "[Parallel(n_jobs=-1)]: Done 158 tasks      | elapsed:  1.3min\n",
            "[Parallel(n_jobs=-1)]: Done 177 tasks      | elapsed:  1.5min\n",
            "[Parallel(n_jobs=-1)]: Done 196 tasks      | elapsed:  1.6min\n",
            "[Parallel(n_jobs=-1)]: Done 217 tasks      | elapsed:  1.8min\n",
            "[Parallel(n_jobs=-1)]: Done 238 tasks      | elapsed:  1.9min\n",
            "[Parallel(n_jobs=-1)]: Done 261 tasks      | elapsed:  2.1min\n",
            "[Parallel(n_jobs=-1)]: Done 284 tasks      | elapsed:  2.3min\n",
            "[Parallel(n_jobs=-1)]: Done 309 tasks      | elapsed:  2.5min\n",
            "[Parallel(n_jobs=-1)]: Done 334 tasks      | elapsed:  2.8min\n",
            "[Parallel(n_jobs=-1)]: Done 361 tasks      | elapsed:  3.1min\n",
            "[Parallel(n_jobs=-1)]: Done 388 tasks      | elapsed:  3.2min\n",
            "[Parallel(n_jobs=-1)]: Done 417 tasks      | elapsed:  3.5min\n",
            "[Parallel(n_jobs=-1)]: Done 446 tasks      | elapsed:  3.7min\n",
            "[Parallel(n_jobs=-1)]: Done 477 tasks      | elapsed:  4.0min\n",
            "[Parallel(n_jobs=-1)]: Done 508 tasks      | elapsed:  4.3min\n",
            "[Parallel(n_jobs=-1)]: Done 540 out of 540 | elapsed:  4.6min finished\n"
          ],
          "name": "stderr"
        },
        {
          "output_type": "stream",
          "text": [
            "test size 0.8\n",
            "Best score: 0.541\n",
            "Best parameters set:\n",
            "\tlr__C: 10\n",
            "\tlr__penalty: 'l2'\n",
            "\tsvd__n_components: 16\n",
            "\tsvd__n_iter: 3\n"
          ],
          "name": "stdout"
        }
      ]
    },
    {
      "cell_type": "code",
      "metadata": {
        "colab": {
          "base_uri": "https://localhost:8080/"
        },
        "id": "-oEKTqXKq17r",
        "outputId": "2017f587-b9e4-4847-c00e-9e7552f9f0eb"
      },
      "source": [
        "score"
      ],
      "execution_count": null,
      "outputs": [
        {
          "output_type": "execute_result",
          "data": {
            "text/plain": [
              "[[0.5407671787719966, 0.1, 'svd__n_iter', 3],\n",
              " [0.5404803638677395, 0.4, 'svd__n_iter', 3],\n",
              " [0.540730363352006, 0.5, 'svd__n_iter', 3],\n",
              " [0.5406044461778607, 0.8, 'svd__n_iter', 3]]"
            ]
          },
          "metadata": {
            "tags": []
          },
          "execution_count": 51
        }
      ]
    },
    {
      "cell_type": "code",
      "metadata": {
        "colab": {
          "base_uri": "https://localhost:8080/"
        },
        "id": "zz34hV4tjspq",
        "outputId": "86cb7952-30bb-452f-88d8-5375ea39ed90"
      },
      "source": [
        "from sklearn.model_selection import train_test_split\n",
        "\n",
        "X_train, X_test, y_train, y_test = train_test_split(X, y, test_size=0.40, random_state=3)\n",
        "\n",
        "svd = TruncatedSVD(algorithm=\"randomized\", random_state=None, tol=0.0)\n",
        "scl = StandardScaler()\n",
        "lr = lm.LogisticRegression(class_weight=\"balanced\", tol = 0.0001)\n",
        "clf = pipeline.Pipeline([('svd', svd),\n",
        "    \t\t\t\t\t\t ('scl', scl),\n",
        "                    \t     ('lr', lr)])\n",
        "\n",
        "param_grid = {'svd__n_components' : [16],\n",
        "                 'svd__n_iter':[3],\n",
        "                 'lr__C': [10],\n",
        "                  'lr__penalty':[\"l2\"]}\n",
        "\n",
        "f_scorer = metrics.make_scorer(f1_score, greater_is_better = True)\n",
        "\n",
        "model = GridSearchCV(estimator = clf, param_grid=param_grid, scoring=f_scorer,\n",
        "                                     verbose=10, n_jobs=-1, iid=True, refit=True, cv=10)\n",
        "\n",
        "model.fit(X_train, y_train)\n",
        "preds = model.predict(X_test)\n",
        "\n",
        "\n",
        " \n"
      ],
      "execution_count": null,
      "outputs": [
        {
          "output_type": "stream",
          "text": [
            "Fitting 10 folds for each of 1 candidates, totalling 10 fits\n"
          ],
          "name": "stdout"
        },
        {
          "output_type": "stream",
          "text": [
            "[Parallel(n_jobs=-1)]: Using backend LokyBackend with 2 concurrent workers.\n",
            "[Parallel(n_jobs=-1)]: Done   1 tasks      | elapsed:    4.0s\n",
            "[Parallel(n_jobs=-1)]: Done   4 tasks      | elapsed:    8.0s\n",
            "[Parallel(n_jobs=-1)]: Done  10 out of  10 | elapsed:   20.0s finished\n"
          ],
          "name": "stderr"
        }
      ]
    },
    {
      "cell_type": "code",
      "metadata": {
        "colab": {
          "base_uri": "https://localhost:8080/"
        },
        "id": "tVUwXfP9bYAK",
        "outputId": "e601ba85-2ff2-4055-b9ae-3c40728f027a"
      },
      "source": [
        "from sklearn.metrics import confusion_matrix\n",
        "confusion_matrix = confusion_matrix(y_test, preds)\n",
        "print(confusion_matrix)"
      ],
      "execution_count": null,
      "outputs": [
        {
          "output_type": "stream",
          "text": [
            "[[109391  92295]\n",
            " [ 93336 109309]]\n"
          ],
          "name": "stdout"
        }
      ]
    },
    {
      "cell_type": "code",
      "metadata": {
        "colab": {
          "base_uri": "https://localhost:8080/"
        },
        "id": "lrsORx2AbheV",
        "outputId": "72f706ea-baf2-480f-a145-58481ffbc70f"
      },
      "source": [
        "from sklearn.metrics import classification_report\n",
        "print(classification_report(y_test, preds))"
      ],
      "execution_count": null,
      "outputs": [
        {
          "output_type": "stream",
          "text": [
            "              precision    recall  f1-score   support\n",
            "\n",
            "           0       0.54      0.54      0.54    201686\n",
            "           1       0.54      0.54      0.54    202645\n",
            "\n",
            "    accuracy                           0.54    404331\n",
            "   macro avg       0.54      0.54      0.54    404331\n",
            "weighted avg       0.54      0.54      0.54    404331\n",
            "\n"
          ],
          "name": "stdout"
        }
      ]
    },
    {
      "cell_type": "code",
      "metadata": {
        "colab": {
          "base_uri": "https://localhost:8080/",
          "height": 295
        },
        "id": "lSeyXxKwbmSC",
        "outputId": "2d1cd65a-039e-4925-94f8-4687fdb60468"
      },
      "source": [
        "from sklearn.metrics import roc_auc_score\n",
        "from sklearn.metrics import roc_curve\n",
        "from matplotlib import pyplot as plt\n",
        "logit_roc_auc = roc_auc_score(y_test,preds)\n",
        "fpr, tpr, thresholds = roc_curve(y_test, model.predict_proba(X_test)[:,1])\n",
        "plt.figure()\n",
        "plt.plot(fpr, tpr, label='(area = %0.2f)' % logit_roc_auc)\n",
        "plt.plot([0, 1], [0, 1],'r--')\n",
        "plt.xlim([0.0, 1.0])\n",
        "plt.ylim([0.0, 1.05])\n",
        "plt.xlabel('False Positive Rate')\n",
        "plt.ylabel('True Positive Rate')\n",
        "plt.legend(loc=\"lower right\")\n",
        "plt.savefig('Log_ROC')\n",
        "plt.show()"
      ],
      "execution_count": null,
      "outputs": [
        {
          "output_type": "display_data",
          "data": {
            "image/png": "[encoded data removed]",
            "text/plain": [
              "<Figure size 432x288 with 1 Axes>"
            ]
          },
          "metadata": {
            "tags": []
          }
        }
      ]
    },
    {
      "cell_type": "code",
      "metadata": {
        "colab": {
          "base_uri": "https://localhost:8080/",
          "height": 402
        },
        "id": "2pyhv0KTJK4Z",
        "outputId": "4d868f79-fc01-4888-e9a3-30786ca59169"
      },
      "source": [
        "probilities=data[['parent_comment']].join(pd.DataFrame(model.predict_proba(X)))\n",
        "probilities"
      ],
      "execution_count": null,
      "outputs": [
        {
          "output_type": "execute_result",
          "data": {
            "text/html": [
              "<div>\n",
              "<style scoped>\n",
              "    .dataframe tbody tr th:only-of-type {\n",
              "        vertical-align: middle;\n",
              "    }\n",
              "\n",
              "    .dataframe tbody tr th {\n",
              "        vertical-align: top;\n",
              "    }\n",
              "\n",
              "    .dataframe thead th {\n",
              "        text-align: right;\n",
              "    }\n",
              "</style>\n",
              "<table border=\"1\" class=\"dataframe\">\n",
              "  <thead>\n",
              "    <tr style=\"text-align: right;\">\n",
              "      <th></th>\n",
              "      <th>parent_comment</th>\n",
              "      <th>0</th>\n",
              "      <th>1</th>\n",
              "    </tr>\n",
              "  </thead>\n",
              "  <tbody>\n",
              "    <tr>\n",
              "      <th>0</th>\n",
              "      <td>Yeah, I get that argument. At this point, I'd ...</td>\n",
              "      <td>0.593560</td>\n",
              "      <td>0.406440</td>\n",
              "    </tr>\n",
              "    <tr>\n",
              "      <th>1</th>\n",
              "      <td>The blazers and Mavericks (The wests 5 and 6 s...</td>\n",
              "      <td>0.514824</td>\n",
              "      <td>0.485176</td>\n",
              "    </tr>\n",
              "    <tr>\n",
              "      <th>2</th>\n",
              "      <td>They're favored to win.</td>\n",
              "      <td>0.644692</td>\n",
              "      <td>0.355308</td>\n",
              "    </tr>\n",
              "    <tr>\n",
              "      <th>3</th>\n",
              "      <td>deadass don't kill my buzz</td>\n",
              "      <td>0.598512</td>\n",
              "      <td>0.401488</td>\n",
              "    </tr>\n",
              "    <tr>\n",
              "      <th>4</th>\n",
              "      <td>Yep can confirm I saw the tool they use for th...</td>\n",
              "      <td>0.614171</td>\n",
              "      <td>0.385829</td>\n",
              "    </tr>\n",
              "    <tr>\n",
              "      <th>...</th>\n",
              "      <td>...</td>\n",
              "      <td>...</td>\n",
              "      <td>...</td>\n",
              "    </tr>\n",
              "    <tr>\n",
              "      <th>1010821</th>\n",
              "      <td>No one is calling this an engineered pathogen,...</td>\n",
              "      <td>0.391219</td>\n",
              "      <td>0.608781</td>\n",
              "    </tr>\n",
              "    <tr>\n",
              "      <th>1010822</th>\n",
              "      <td>In a move typical of their recent do-nothing a...</td>\n",
              "      <td>0.389055</td>\n",
              "      <td>0.610945</td>\n",
              "    </tr>\n",
              "    <tr>\n",
              "      <th>1010823</th>\n",
              "      <td>Screw the Disabled--I've got to get to Church ...</td>\n",
              "      <td>0.466981</td>\n",
              "      <td>0.533019</td>\n",
              "    </tr>\n",
              "    <tr>\n",
              "      <th>1010824</th>\n",
              "      <td>I've always been unsettled by that. I hear a l...</td>\n",
              "      <td>0.435459</td>\n",
              "      <td>0.564541</td>\n",
              "    </tr>\n",
              "    <tr>\n",
              "      <th>1010825</th>\n",
              "      <td>Why do the people who make our laws seem unabl...</td>\n",
              "      <td>0.433097</td>\n",
              "      <td>0.566903</td>\n",
              "    </tr>\n",
              "  </tbody>\n",
              "</table>\n",
              "<p>1010826 rows × 3 columns</p>\n",
              "</div>"
            ],
            "text/plain": [
              "                                            parent_comment         0         1\n",
              "0        Yeah, I get that argument. At this point, I'd ...  0.593560  0.406440\n",
              "1        The blazers and Mavericks (The wests 5 and 6 s...  0.514824  0.485176\n",
              "2                                  They're favored to win.  0.644692  0.355308\n",
              "3                               deadass don't kill my buzz  0.598512  0.401488\n",
              "4        Yep can confirm I saw the tool they use for th...  0.614171  0.385829\n",
              "...                                                    ...       ...       ...\n",
              "1010821  No one is calling this an engineered pathogen,...  0.391219  0.608781\n",
              "1010822  In a move typical of their recent do-nothing a...  0.389055  0.610945\n",
              "1010823  Screw the Disabled--I've got to get to Church ...  0.466981  0.533019\n",
              "1010824  I've always been unsettled by that. I hear a l...  0.435459  0.564541\n",
              "1010825  Why do the people who make our laws seem unabl...  0.433097  0.566903\n",
              "\n",
              "[1010826 rows x 3 columns]"
            ]
          },
          "metadata": {
            "tags": []
          },
          "execution_count": 60
        }
      ]
    },
    {
      "cell_type": "markdown",
      "metadata": {
        "id": "xolSpd5uf5PK"
      },
      "source": [
        "Google BERT-Text Embedding and 1d Covnets\n",
        "\n",
        "\n",
        "\n"
      ]
    },
    {
      "cell_type": "code",
      "metadata": {
        "id": "XG48SUNFf4pL"
      },
      "source": [
        "%reset -f\n"
      ],
      "execution_count": null,
      "outputs": []
    },
    {
      "cell_type": "code",
      "metadata": {
        "id": "PCTaDnkyf_jn"
      },
      "source": [
        "import pandas as pd\n",
        "data=pd.read_csv('data.csv')"
      ],
      "execution_count": null,
      "outputs": []
    },
    {
      "cell_type": "code",
      "metadata": {
        "colab": {
          "base_uri": "https://localhost:8080/"
        },
        "id": "qVUyJJ0YgCgq",
        "outputId": "9f46e377-b060-4116-9d84-ab9fa0eef1b2"
      },
      "source": [
        "import tensorflow as tf\n",
        "\n",
        "device_name = tf.test.gpu_device_name()\n",
        "if device_name != '/device:GPU:0':\n",
        "  raise SystemError('GPU device not found')\n",
        "print('Found GPU at: {}'.format(device_name))"
      ],
      "execution_count": null,
      "outputs": [
        {
          "output_type": "stream",
          "text": [
            "Found GPU at: /device:GPU:0\n"
          ],
          "name": "stdout"
        }
      ]
    },
    {
      "cell_type": "code",
      "metadata": {
        "colab": {
          "base_uri": "https://localhost:8080/",
          "height": 593
        },
        "id": "7mtmO5IMgDP2",
        "outputId": "c2a48e54-ecdd-47a9-aed6-1ee78288a324"
      },
      "source": [
        "!pip install pytorch-pretrained-bert pytorch-nlp\n",
        "import torch\n",
        "from torch.utils.data import TensorDataset, DataLoader, RandomSampler, SequentialSampler\n",
        "from keras.preprocessing.sequence import pad_sequences\n",
        "from sklearn.model_selection import train_test_split\n",
        "from pytorch_pretrained_bert import BertTokenizer, BertConfig\n",
        "from pytorch_pretrained_bert import BertAdam, BertForSequenceClassification\n",
        "from tqdm import tqdm, trange\n",
        "import pandas as pd\n",
        "import io\n",
        "import numpy as np\n",
        "import matplotlib.pyplot as plt\n",
        "% matplotlib inline\n",
        "device = torch.device(\"cuda\" if torch.cuda.is_available() else \"cpu\")\n",
        "n_gpu = torch.cuda.device_count()\n",
        "torch.cuda.get_device_name(0)"
      ],
      "execution_count": null,
      "outputs": [
        {
          "output_type": "stream",
          "text": [
            "Collecting pytorch-pretrained-bert\n",
            "\u001b[?25l  Downloading https://files.pythonhosted.org/packages/d7/e0/c08d5553b89973d9a240605b9c12404bcf8227590de62bae27acbcfe076b/pytorch_pretrained_bert-0.6.2-py3-none-any.whl (123kB)\n",
            "\u001b[K     |████████████████████████████████| 133kB 17.8MB/s \n",
            "\u001b[?25hCollecting pytorch-nlp\n",
            "\u001b[?25l  Downloading https://files.pythonhosted.org/packages/4f/51/f0ee1efb75f7cc2e3065c5da1363d6be2eec79691b2821594f3f2329528c/pytorch_nlp-0.5.0-py3-none-any.whl (90kB)\n",
            "\u001b[K     |████████████████████████████████| 92kB 11.2MB/s \n",
            "\u001b[?25hRequirement already satisfied: requests in /usr/local/lib/python3.7/dist-packages (from pytorch-pretrained-bert) (2.23.0)\n",
            "Requirement already satisfied: numpy in /usr/local/lib/python3.7/dist-packages (from pytorch-pretrained-bert) (1.19.5)\n",
            "Requirement already satisfied: torch>=0.4.1 in /usr/local/lib/python3.7/dist-packages (from pytorch-pretrained-bert) (1.8.1+cu101)\n",
            "Requirement already satisfied: tqdm in /usr/local/lib/python3.7/dist-packages (from pytorch-pretrained-bert) (4.41.1)\n",
            "Collecting boto3\n",
            "\u001b[?25l  Downloading https://files.pythonhosted.org/packages/f1/99/43e5571005c792284276986eabd956699fac65d283df409b1482ca8722d8/boto3-1.17.67-py2.py3-none-any.whl (131kB)\n",
            "\u001b[K     |████████████████████████████████| 133kB 46.7MB/s \n",
            "\u001b[?25hRequirement already satisfied: regex in /usr/local/lib/python3.7/dist-packages (from pytorch-pretrained-bert) (2019.12.20)\n",
            "Requirement already satisfied: chardet<4,>=3.0.2 in /usr/local/lib/python3.7/dist-packages (from requests->pytorch-pretrained-bert) (3.0.4)\n",
            "Requirement already satisfied: idna<3,>=2.5 in /usr/local/lib/python3.7/dist-packages (from requests->pytorch-pretrained-bert) (2.10)\n",
            "Requirement already satisfied: certifi>=2017.4.17 in /usr/local/lib/python3.7/dist-packages (from requests->pytorch-pretrained-bert) (2020.12.5)\n",
            "Requirement already satisfied: urllib3!=1.25.0,!=1.25.1,<1.26,>=1.21.1 in /usr/local/lib/python3.7/dist-packages (from requests->pytorch-pretrained-bert) (1.24.3)\n",
            "Requirement already satisfied: typing-extensions in /usr/local/lib/python3.7/dist-packages (from torch>=0.4.1->pytorch-pretrained-bert) (3.7.4.3)\n",
            "Collecting botocore<1.21.0,>=1.20.67\n",
            "\u001b[?25l  Downloading https://files.pythonhosted.org/packages/82/2b/6a23d63e1b9593919fbe622596fe92e02e3abcec7d2f91594443ee6e4ef9/botocore-1.20.67-py2.py3-none-any.whl (7.5MB)\n",
            "\u001b[K     |████████████████████████████████| 7.5MB 46.2MB/s \n",
            "\u001b[?25hCollecting s3transfer<0.5.0,>=0.4.0\n",
            "\u001b[?25l  Downloading https://files.pythonhosted.org/packages/63/d0/693477c688348654ddc21dcdce0817653a294aa43f41771084c25e7ff9c7/s3transfer-0.4.2-py2.py3-none-any.whl (79kB)\n",
            "\u001b[K     |████████████████████████████████| 81kB 13.2MB/s \n",
            "\u001b[?25hCollecting jmespath<1.0.0,>=0.7.1\n",
            "  Downloading https://files.pythonhosted.org/packages/07/cb/5f001272b6faeb23c1c9e0acc04d48eaaf5c862c17709d20e3469c6e0139/jmespath-0.10.0-py2.py3-none-any.whl\n",
            "Requirement already satisfied: python-dateutil<3.0.0,>=2.1 in /usr/local/lib/python3.7/dist-packages (from botocore<1.21.0,>=1.20.67->boto3->pytorch-pretrained-bert) (2.8.1)\n",
            "Requirement already satisfied: six>=1.5 in /usr/local/lib/python3.7/dist-packages (from python-dateutil<3.0.0,>=2.1->botocore<1.21.0,>=1.20.67->boto3->pytorch-pretrained-bert) (1.15.0)\n",
            "\u001b[31mERROR: botocore 1.20.67 has requirement urllib3<1.27,>=1.25.4, but you'll have urllib3 1.24.3 which is incompatible.\u001b[0m\n",
            "Installing collected packages: jmespath, botocore, s3transfer, boto3, pytorch-pretrained-bert, pytorch-nlp\n",
            "Successfully installed boto3-1.17.67 botocore-1.20.67 jmespath-0.10.0 pytorch-nlp-0.5.0 pytorch-pretrained-bert-0.6.2 s3transfer-0.4.2\n"
          ],
          "name": "stdout"
        },
        {
          "output_type": "execute_result",
          "data": {
            "application/vnd.google.colaboratory.intrinsic+json": {
              "type": "string"
            },
            "text/plain": [
              "'Tesla T4'"
            ]
          },
          "metadata": {
            "tags": []
          },
          "execution_count": 6
        }
      ]
    },
    {
      "cell_type": "code",
      "metadata": {
        "colab": {
          "base_uri": "https://localhost:8080/"
        },
        "id": "bPqDNAXQgFVi",
        "outputId": "ccf0fffc-f24f-4c81-aeea-4699f78a43b7"
      },
      "source": [
        "!pip install -q bert-for-tf2\n",
        "!pip install -q sentencepiece"
      ],
      "execution_count": null,
      "outputs": [
        {
          "output_type": "stream",
          "text": [
            "\u001b[?25l\r\u001b[K     |████████                        | 10kB 32.2MB/s eta 0:00:01\r\u001b[K     |████████████████                | 20kB 36.9MB/s eta 0:00:01\r\u001b[K     |███████████████████████▉        | 30kB 21.9MB/s eta 0:00:01\r\u001b[K     |███████████████████████████████▉| 40kB 25.6MB/s eta 0:00:01\r\u001b[K     |████████████████████████████████| 51kB 7.8MB/s \n",
            "\u001b[?25h  Building wheel for bert-for-tf2 (setup.py) ... \u001b[?25l\u001b[?25hdone\n",
            "  Building wheel for py-params (setup.py) ... \u001b[?25l\u001b[?25hdone\n",
            "  Building wheel for params-flow (setup.py) ... \u001b[?25l\u001b[?25hdone\n",
            "\u001b[K     |████████████████████████████████| 1.2MB 20.6MB/s \n",
            "\u001b[?25h"
          ],
          "name": "stdout"
        }
      ]
    },
    {
      "cell_type": "code",
      "metadata": {
        "id": "8WWnpjICgIOa"
      },
      "source": [
        "import tensorflow as tf\n",
        "import tensorflow_hub as hub\n",
        "from tensorflow.keras import layers\n",
        "import bert"
      ],
      "execution_count": null,
      "outputs": []
    },
    {
      "cell_type": "code",
      "metadata": {
        "id": "qGbutzk_gJ9h"
      },
      "source": [
        "BertTokenizer = bert.bert_tokenization.FullTokenizer\n",
        "bert_layer = hub.KerasLayer(\"https://tfhub.dev/tensorflow/bert_en_uncased_L-12_H-768_A-12/1\",\n",
        "                            trainable=False)\n",
        "vocabulary_file = bert_layer.resolved_object.vocab_file.asset_path.numpy()\n",
        "to_lower_case = bert_layer.resolved_object.do_lower_case.numpy()\n",
        "tokenizer = BertTokenizer(vocabulary_file, to_lower_case)"
      ],
      "execution_count": null,
      "outputs": []
    },
    {
      "cell_type": "code",
      "metadata": {
        "id": "ut_NdO1qgL3u"
      },
      "source": [
        "def tokenize(text):\n",
        "    return tokenizer.convert_tokens_to_ids(tokenizer.tokenize(text))"
      ],
      "execution_count": null,
      "outputs": []
    },
    {
      "cell_type": "code",
      "metadata": {
        "colab": {
          "base_uri": "https://localhost:8080/"
        },
        "id": "u_2T1L0lgNUe",
        "outputId": "94305e6c-89f5-4f12-ee84-0a36fb733e37"
      },
      "source": [
        "!pip install -q swifter\n",
        "import swifter"
      ],
      "execution_count": null,
      "outputs": [
        {
          "output_type": "stream",
          "text": [
            "\u001b[K     |████████████████████████████████| 634kB 18.7MB/s \n",
            "\u001b[K     |████████████████████████████████| 296kB 52.2MB/s \n",
            "\u001b[K     |████████████████████████████████| 583kB 59.9MB/s \n",
            "\u001b[K     |████████████████████████████████| 112kB 62.0MB/s \n",
            "\u001b[K     |████████████████████████████████| 48.5MB 63kB/s \n",
            "\u001b[K     |████████████████████████████████| 17.2MB 214kB/s \n",
            "\u001b[K     |████████████████████████████████| 81kB 14.1MB/s \n",
            "\u001b[K     |████████████████████████████████| 133kB 53.4MB/s \n",
            "\u001b[K     |████████████████████████████████| 204kB 64.6MB/s \n",
            "\u001b[K     |████████████████████████████████| 81kB 12.6MB/s \n",
            "\u001b[K     |████████████████████████████████| 3.1MB 51.9MB/s \n",
            "\u001b[K     |████████████████████████████████| 71kB 11.1MB/s \n",
            "\u001b[K     |████████████████████████████████| 1.3MB 48.5MB/s \n",
            "\u001b[K     |████████████████████████████████| 92kB 13.0MB/s \n",
            "\u001b[K     |████████████████████████████████| 296kB 62.0MB/s \n",
            "\u001b[K     |████████████████████████████████| 143kB 60.8MB/s \n",
            "\u001b[?25h  Building wheel for swifter (setup.py) ... \u001b[?25l\u001b[?25hdone\n",
            "  Building wheel for gpustat (setup.py) ... \u001b[?25l\u001b[?25hdone\n",
            "\u001b[31mERROR: modin 0.9.1 has requirement pandas==1.2.3, but you'll have pandas 1.1.5 which is incompatible.\u001b[0m\n"
          ],
          "name": "stdout"
        }
      ]
    },
    {
      "cell_type": "code",
      "metadata": {
        "colab": {
          "base_uri": "https://localhost:8080/",
          "height": 66,
          "referenced_widgets": [
            "f4e62b99413f4288b13aae673b983d9a",
            "c67df4e56f824f4793a69568b82a35ef",
            "017d2aeb45d443dda8c67980e07416e9",
            "85457f9a464e4806a07ca38c7bc033cf",
            "40b45a5804c748c2a7288618f434bb69",
            "d0130dd4721e449d8fd6d9a6b82961cc",
            "9e83d3b914b546db8f4e5ef304d6f8b4",
            "9158cbd5c29742918751019d0c1a5660"
          ]
        },
        "id": "fNaLmC9fgQd6",
        "outputId": "86decf8e-b74d-4477-af2c-71d42b401625"
      },
      "source": [
        "data['tokenize']=data['parent_comment'].swifter.apply(lambda x:tokenize(x))"
      ],
      "execution_count": null,
      "outputs": [
        {
          "output_type": "display_data",
          "data": {
            "application/vnd.jupyter.widget-view+json": {
              "model_id": "f4e62b99413f4288b13aae673b983d9a",
              "version_major": 2,
              "version_minor": 0
            },
            "text/plain": [
              "HBox(children=(FloatProgress(value=0.0, description='Pandas Apply', max=1010826.0, style=ProgressStyle(descrip…"
            ]
          },
          "metadata": {
            "tags": []
          }
        },
        {
          "output_type": "stream",
          "text": [
            "\n"
          ],
          "name": "stdout"
        }
      ]
    },
    {
      "cell_type": "code",
      "metadata": {
        "id": "MlAkNs4HgSKq"
      },
      "source": [
        "tokenize=data['tokenize']"
      ],
      "execution_count": null,
      "outputs": []
    },
    {
      "cell_type": "code",
      "metadata": {
        "id": "xM2MBffygTYR"
      },
      "source": [
        "sequence = [[comment, data.label[i], len(comment)]\n",
        "                 for i, comment in enumerate(tokenize)]"
      ],
      "execution_count": null,
      "outputs": []
    },
    {
      "cell_type": "code",
      "metadata": {
        "id": "2E-PD4aCgXGw"
      },
      "source": [
        "import random\n",
        "random.shuffle(sequence)\n"
      ],
      "execution_count": null,
      "outputs": []
    },
    {
      "cell_type": "code",
      "metadata": {
        "id": "-UsESer4gYt2"
      },
      "source": [
        "sequence.sort(key=lambda x: x[2])\n",
        "sorted_seq = [(comm[0], comm[1]) for comm in sequence]"
      ],
      "execution_count": null,
      "outputs": []
    },
    {
      "cell_type": "code",
      "metadata": {
        "id": "nYv_SYqOgaaO"
      },
      "source": [
        "df = tf.data.Dataset.from_generator(lambda: sorted_seq, output_types=(tf.int32, tf.int32))"
      ],
      "execution_count": null,
      "outputs": []
    },
    {
      "cell_type": "code",
      "metadata": {
        "id": "5imKrISYgcEh"
      },
      "source": [
        "BATCH_SIZE = 32\n",
        "batched_dataset = df.padded_batch(BATCH_SIZE, padded_shapes=((None, ), ()))"
      ],
      "execution_count": null,
      "outputs": []
    },
    {
      "cell_type": "code",
      "metadata": {
        "id": "FiwhT16agdzK"
      },
      "source": [
        "import math"
      ],
      "execution_count": null,
      "outputs": []
    },
    {
      "cell_type": "code",
      "metadata": {
        "colab": {
          "base_uri": "https://localhost:8080/"
        },
        "id": "rv2Bw5NBgfMT",
        "outputId": "3bd2e4e7-a754-4246-d58b-4c9fbdc5c968"
      },
      "source": [
        "TOTAL_BATCHES = math.ceil(len(sorted_seq) / BATCH_SIZE)\n",
        "batched_dataset.shuffle(TOTAL_BATCHES)"
      ],
      "execution_count": null,
      "outputs": [
        {
          "output_type": "execute_result",
          "data": {
            "text/plain": [
              "<ShuffleDataset shapes: ((None, None), (None,)), types: (tf.int32, tf.int32)>"
            ]
          },
          "metadata": {
            "tags": []
          },
          "execution_count": 20
        }
      ]
    },
    {
      "cell_type": "code",
      "metadata": {
        "colab": {
          "base_uri": "https://localhost:8080/"
        },
        "id": "MRS9hERw_kZ9",
        "outputId": "acaa7167-0f62-40bf-ed60-d471850dd576"
      },
      "source": [
        "TOTAL_BATCHES"
      ],
      "execution_count": null,
      "outputs": [
        {
          "output_type": "execute_result",
          "data": {
            "text/plain": [
              "31589"
            ]
          },
          "metadata": {
            "tags": []
          },
          "execution_count": 21
        }
      ]
    },
    {
      "cell_type": "code",
      "metadata": {
        "id": "B1Ydnix3_oGD"
      },
      "source": [
        "train_data = batched_dataset.skip(10000)\n",
        "test_data = batched_dataset.skip(21589)"
      ],
      "execution_count": null,
      "outputs": []
    },
    {
      "cell_type": "code",
      "metadata": {
        "id": "FM26XiTzghEO"
      },
      "source": [
        "class TEXT_MODEL(tf.keras.Model):\n",
        "    \n",
        "    def __init__(self,\n",
        "                 vocabulary_size,\n",
        "                 embedding_dimensions=128,\n",
        "                 cnn_filters=50,\n",
        "                 dnn_units=512,\n",
        "                 model_output_classes=2,\n",
        "                 dropout_rate=0.1,\n",
        "                 training=False,\n",
        "                 name=\"text_model\"):\n",
        "        super(TEXT_MODEL, self).__init__(name=name)\n",
        "        \n",
        "        self.embedding = layers.Embedding(vocabulary_size,\n",
        "                                          embedding_dimensions)\n",
        "        self.cnn_layer1 = layers.Conv1D(filters=cnn_filters,\n",
        "                                        kernel_size=2,\n",
        "                                        padding=\"valid\",\n",
        "                                        activation=\"relu\")\n",
        "        self.cnn_layer2 = layers.Conv1D(filters=cnn_filters,\n",
        "                                        kernel_size=3,\n",
        "                                        padding=\"valid\",\n",
        "                                        activation=\"relu\")\n",
        "        self.cnn_layer3 = layers.Conv1D(filters=cnn_filters,\n",
        "                                        kernel_size=4,\n",
        "                                        padding=\"valid\",\n",
        "                                        activation=\"relu\")\n",
        "        self.pool = layers.GlobalMaxPool1D()\n",
        "        \n",
        "        self.dense_1 = layers.Dense(units=dnn_units, activation=\"relu\")\n",
        "        self.dropout = layers.Dropout(rate=dropout_rate)\n",
        "        if model_output_classes == 2:\n",
        "            self.last_dense = layers.Dense(units=1,\n",
        "                                           activation=\"sigmoid\")\n",
        "        else:\n",
        "            self.last_dense = layers.Dense(units=model_output_classes,\n",
        "                                           activation=\"softmax\")\n",
        "    \n",
        "    def call(self, inputs, training):\n",
        "        l = self.embedding(inputs)\n",
        "        l_1 = self.cnn_layer1(l) \n",
        "        l_1 = self.pool(l_1) \n",
        "        l_2 = self.cnn_layer2(l) \n",
        "        l_2 = self.pool(l_2)\n",
        "        l_3 = self.cnn_layer3(l)\n",
        "        l_3 = self.pool(l_3) \n",
        "        \n",
        "        concatenated = tf.concat([l_1, l_2, l_3], axis=-1) # (batch_size, 3 * cnn_filters)\n",
        "        concatenated = self.dense_1(concatenated)\n",
        "        concatenated = self.dropout(concatenated, training)\n",
        "        model_output = self.last_dense(concatenated)\n",
        "        \n",
        "        return model_output"
      ],
      "execution_count": null,
      "outputs": []
    },
    {
      "cell_type": "markdown",
      "metadata": {
        "id": "aBDAYApBgjwv"
      },
      "source": [
        "Hyperparameters"
      ]
    },
    {
      "cell_type": "code",
      "metadata": {
        "id": "ZWQF8cPBghtx"
      },
      "source": [
        "VOCAB_LENGTH = len(tokenizer.vocab)\n",
        "EMB_DIM = 200\n",
        "CNN_FILTERS = 100\n",
        "DNN_UNITS = 256\n",
        "OUTPUT_CLASSES = 2\n",
        "DROPOUT_RATE = 0.2\n",
        "NB_EPOCHS = 5"
      ],
      "execution_count": null,
      "outputs": []
    },
    {
      "cell_type": "code",
      "metadata": {
        "id": "Zu0QaQtVglnU"
      },
      "source": [
        "text_model = TEXT_MODEL(vocabulary_size=VOCAB_LENGTH,\n",
        "                        embedding_dimensions=EMB_DIM,\n",
        "                        cnn_filters=CNN_FILTERS,\n",
        "                        dnn_units=DNN_UNITS,\n",
        "                        model_output_classes=OUTPUT_CLASSES,\n",
        "                        dropout_rate=DROPOUT_RATE)"
      ],
      "execution_count": null,
      "outputs": []
    },
    {
      "cell_type": "code",
      "metadata": {
        "id": "KtyB9zNZgnhm"
      },
      "source": [
        "if OUTPUT_CLASSES == 2:\n",
        "    text_model.compile(loss=\"binary_crossentropy\",\n",
        "                       optimizer=\"adam\",\n",
        "                       metrics=[\"accuracy\"])\n",
        "else:\n",
        "    text_model.compile(loss=\"sparse_categorical_crossentropy\",\n",
        "                       optimizer=\"adam\",\n",
        "                       metrics=[\"sparse_categorical_accuracy\"])"
      ],
      "execution_count": null,
      "outputs": []
    },
    {
      "cell_type": "code",
      "metadata": {
        "colab": {
          "background_save": true,
          "base_uri": "https://localhost:8080/"
        },
        "id": "FsjD5iYugq1x",
        "outputId": "759b2013-d77a-415d-add0-9a0a5aa3f428"
      },
      "source": [
        "text_model.fit(train_data, epochs=NB_EPOCHS)"
      ],
      "execution_count": null,
      "outputs": [
        {
          "output_type": "stream",
          "text": [
            "Epoch 1/5\n",
            "21589/21589 [==============================] - 1430s 63ms/step - loss: 0.6769 - accuracy: 0.5701\n",
            "Epoch 2/5\n",
            "21589/21589 [==============================] - 1276s 58ms/step - loss: 0.6575 - accuracy: 0.6061\n",
            "Epoch 3/5\n",
            "21589/21589 [==============================] - 1292s 58ms/step - loss: 0.6075 - accuracy: 0.6616\n",
            "Epoch 4/5\n",
            "21589/21589 [==============================] - 1315s 59ms/step - loss: 0.5307 - accuracy: 0.7215\n",
            "Epoch 5/5\n",
            "21589/21589 [==============================] - 1318s 59ms/step - loss: 0.4490 - accuracy: 0.7710\n"
          ],
          "name": "stdout"
        },
        {
          "output_type": "execute_result",
          "data": {
            "text/plain": [
              "<tensorflow.python.keras.callbacks.History at 0x7f9c2d715a10>"
            ]
          },
          "metadata": {
            "tags": []
          },
          "execution_count": 0
        }
      ]
    },
    {
      "cell_type": "code",
      "metadata": {
        "id": "WbSolh7EjGrS",
        "colab": {
          "base_uri": "https://localhost:8080/"
        },
        "outputId": "acc491df-2d34-46a5-9439-805f23b2a4a6"
      },
      "source": [
        "results = text_model.evaluate(test_data)\n",
        "print(results)"
      ],
      "execution_count": null,
      "outputs": [
        {
          "output_type": "stream",
          "text": [
            "10000/10000 [==============================] - 147s 8ms/step - loss: 0.3741 - accuracy: 0.8377\n",
            "[0.3740980327129364, 0.8377419710159302]\n"
          ],
          "name": "stdout"
        }
      ]
    },
    {
      "cell_type": "code",
      "metadata": {
        "id": "QxV5SacH_CNA"
      },
      "source": [
        "results1=text_model.predict(test_data)"
      ],
      "execution_count": null,
      "outputs": []
    },
    {
      "cell_type": "code",
      "metadata": {
        "colab": {
          "base_uri": "https://localhost:8080/"
        },
        "id": "lH06LcknC89m",
        "outputId": "e420d8b2-81f6-4d06-9f23-9cc2a49f84d5"
      },
      "source": [
        "results1"
      ],
      "execution_count": null,
      "outputs": [
        {
          "output_type": "execute_result",
          "data": {
            "text/plain": [
              "array([[0.65424275],\n",
              "       [0.5288436 ],\n",
              "       [0.2602486 ],\n",
              "       ...,\n",
              "       [0.00238845],\n",
              "       [0.51099473],\n",
              "       [0.00094974]], dtype=float32)"
            ]
          },
          "metadata": {
            "tags": []
          },
          "execution_count": 38
        }
      ]
    },
    {
      "cell_type": "code",
      "metadata": {
        "colab": {
          "base_uri": "https://localhost:8080/"
        },
        "id": "zL7KDNvyDpSO",
        "outputId": "c7ae1f61-544b-4bd1-b493-5ea7ee714eae"
      },
      "source": [
        "import numpy as np\n",
        "predicted = (results1 > 0.5).astype(np.int)\n",
        "print(labels)"
      ],
      "execution_count": null,
      "outputs": [
        {
          "output_type": "stream",
          "text": [
            "[[0]\n",
            " [0]\n",
            " [1]\n",
            " ...\n",
            " [1]\n",
            " [0]\n",
            " [1]]\n"
          ],
          "name": "stdout"
        }
      ]
    },
    {
      "cell_type": "code",
      "metadata": {
        "id": "hZhZFUoLCkRi"
      },
      "source": [
        "true_categories = tf.concat([y for x, y in test_data], axis=0)\n"
      ],
      "execution_count": null,
      "outputs": []
    },
    {
      "cell_type": "code",
      "metadata": {
        "id": "DFRVLr2VCxiS",
        "colab": {
          "base_uri": "https://localhost:8080/"
        },
        "outputId": "439c4bab-0bf1-4955-a5ac-81e5f4739822"
      },
      "source": [
        "from sklearn.metrics import confusion_matrix\n",
        "confusion_matrix(true_categories, predicted)\n"
      ],
      "execution_count": null,
      "outputs": [
        {
          "output_type": "execute_result",
          "data": {
            "text/plain": [
              "array([[130376,  28813],\n",
              "       [ 23106, 137683]])"
            ]
          },
          "metadata": {
            "tags": []
          },
          "execution_count": 55
        }
      ]
    },
    {
      "cell_type": "code",
      "metadata": {
        "id": "3Zz9JMLeCxfK",
        "colab": {
          "base_uri": "https://localhost:8080/"
        },
        "outputId": "5d15385e-654c-4889-cf65-ad8b491b3621"
      },
      "source": [
        "from sklearn.metrics import classification_report\n",
        "print(classification_report(predicted, true_categories))"
      ],
      "execution_count": null,
      "outputs": [
        {
          "output_type": "stream",
          "text": [
            "              precision    recall  f1-score   support\n",
            "\n",
            "           0       0.82      0.85      0.83    153482\n",
            "           1       0.86      0.83      0.84    166496\n",
            "\n",
            "    accuracy                           0.84    319978\n",
            "   macro avg       0.84      0.84      0.84    319978\n",
            "weighted avg       0.84      0.84      0.84    319978\n",
            "\n"
          ],
          "name": "stdout"
        }
      ]
    },
    {
      "cell_type": "code",
      "metadata": {
        "id": "u1ZUAbn1Czr3",
        "colab": {
          "base_uri": "https://localhost:8080/",
          "height": 279
        },
        "outputId": "710f20ab-23ae-4936-d4bd-fad224d18cdd"
      },
      "source": [
        "from sklearn.metrics import roc_auc_score\n",
        "from sklearn.metrics import roc_curve\n",
        "from matplotlib import pyplot as plt\n",
        "logit_roc_auc = roc_auc_score(true_categories,predicted)\n",
        "fpr, tpr, thresholds = roc_curve(true_categories, results1)\n",
        "plt.figure()\n",
        "plt.plot(fpr, tpr, label='(area = %0.2f)' % logit_roc_auc)\n",
        "plt.plot([0, 1], [0, 1],'r--')\n",
        "plt.xlim([0.0, 1.0])\n",
        "plt.ylim([0.0, 1.05])\n",
        "plt.xlabel('False Positive Rate')\n",
        "plt.ylabel('True Positive Rate')\n",
        "plt.legend(loc=\"lower right\")\n",
        "plt.savefig('Log_ROC')\n",
        "plt.show()"
      ],
      "execution_count": null,
      "outputs": [
        {
          "output_type": "display_data",
          "data": {
            "image/png": "[encoded data removed]",
            "text/plain": [
              "<Figure size 432x288 with 1 Axes>"
            ]
          },
          "metadata": {
            "tags": [],
            "needs_background": "light"
          }
        }
      ]
    }
  ]
}